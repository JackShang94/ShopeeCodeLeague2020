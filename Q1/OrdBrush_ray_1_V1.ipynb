{
 "cells": [
  {
   "cell_type": "code",
   "execution_count": 1,
   "metadata": {},
   "outputs": [],
   "source": [
    "import pandas as pd\n",
    "import numpy as np\n",
    "import datetime as datetime\n",
    "import os\n",
    "%matplotlib inline\n",
    "\n",
    "from IPython.core.interactiveshell import InteractiveShell\n",
    "InteractiveShell.ast_node_interactivity = \"all\"\n",
    "\n",
    "pd.set_option('display.max_colwidth', 500)"
   ]
  },
  {
   "cell_type": "code",
   "execution_count": 3,
   "metadata": {},
   "outputs": [
    {
     "output_type": "execute_result",
     "data": {
      "text/plain": "          orderid     shopid     userid           event_time\n0  31076582227611   93950878   30530270  2019-12-27 00:23:03\n1  31118059853484  156423439   46057927  2019-12-27 11:54:20\n2  31123355095755  173699291   67341739  2019-12-27 13:22:35\n3  31122059872723   63674025  149380322  2019-12-27 13:01:00\n4  31117075665123  127249066  149493217  2019-12-27 11:37:55",
      "text/html": "<div>\n<style scoped>\n    .dataframe tbody tr th:only-of-type {\n        vertical-align: middle;\n    }\n\n    .dataframe tbody tr th {\n        vertical-align: top;\n    }\n\n    .dataframe thead th {\n        text-align: right;\n    }\n</style>\n<table border=\"1\" class=\"dataframe\">\n  <thead>\n    <tr style=\"text-align: right;\">\n      <th></th>\n      <th>orderid</th>\n      <th>shopid</th>\n      <th>userid</th>\n      <th>event_time</th>\n    </tr>\n  </thead>\n  <tbody>\n    <tr>\n      <th>0</th>\n      <td>31076582227611</td>\n      <td>93950878</td>\n      <td>30530270</td>\n      <td>2019-12-27 00:23:03</td>\n    </tr>\n    <tr>\n      <th>1</th>\n      <td>31118059853484</td>\n      <td>156423439</td>\n      <td>46057927</td>\n      <td>2019-12-27 11:54:20</td>\n    </tr>\n    <tr>\n      <th>2</th>\n      <td>31123355095755</td>\n      <td>173699291</td>\n      <td>67341739</td>\n      <td>2019-12-27 13:22:35</td>\n    </tr>\n    <tr>\n      <th>3</th>\n      <td>31122059872723</td>\n      <td>63674025</td>\n      <td>149380322</td>\n      <td>2019-12-27 13:01:00</td>\n    </tr>\n    <tr>\n      <th>4</th>\n      <td>31117075665123</td>\n      <td>127249066</td>\n      <td>149493217</td>\n      <td>2019-12-27 11:37:55</td>\n    </tr>\n  </tbody>\n</table>\n</div>"
     },
     "metadata": {},
     "execution_count": 3
    }
   ],
   "source": [
    "# Load data\n",
    "readPath = 'order_brush_order.csv'\n",
    "Order_df = pd.read_csv(readPath,dtype={'bank_account':str}) \n",
    "df = Order_df.copy()\n",
    "df.head()"
   ]
  },
  {
   "cell_type": "code",
   "execution_count": 5,
   "metadata": {},
   "outputs": [
    {
     "output_type": "execute_result",
     "data": {
      "text/plain": "   shopid           event_time     userid  orderid\n0   10009  2019-12-27 03:06:50  196962305        1\n1   10051  2019-12-27 19:16:11    2854032        1\n2   10051  2019-12-29 01:56:19   48600461        1\n3   10061  2019-12-28 09:27:55  168750452        1\n4   10061  2019-12-28 12:05:32  194819216        1",
      "text/html": "<div>\n<style scoped>\n    .dataframe tbody tr th:only-of-type {\n        vertical-align: middle;\n    }\n\n    .dataframe tbody tr th {\n        vertical-align: top;\n    }\n\n    .dataframe thead th {\n        text-align: right;\n    }\n</style>\n<table border=\"1\" class=\"dataframe\">\n  <thead>\n    <tr style=\"text-align: right;\">\n      <th></th>\n      <th>shopid</th>\n      <th>event_time</th>\n      <th>userid</th>\n      <th>orderid</th>\n    </tr>\n  </thead>\n  <tbody>\n    <tr>\n      <th>0</th>\n      <td>10009</td>\n      <td>2019-12-27 03:06:50</td>\n      <td>196962305</td>\n      <td>1</td>\n    </tr>\n    <tr>\n      <th>1</th>\n      <td>10051</td>\n      <td>2019-12-27 19:16:11</td>\n      <td>2854032</td>\n      <td>1</td>\n    </tr>\n    <tr>\n      <th>2</th>\n      <td>10051</td>\n      <td>2019-12-29 01:56:19</td>\n      <td>48600461</td>\n      <td>1</td>\n    </tr>\n    <tr>\n      <th>3</th>\n      <td>10061</td>\n      <td>2019-12-28 09:27:55</td>\n      <td>168750452</td>\n      <td>1</td>\n    </tr>\n    <tr>\n      <th>4</th>\n      <td>10061</td>\n      <td>2019-12-28 12:05:32</td>\n      <td>194819216</td>\n      <td>1</td>\n    </tr>\n  </tbody>\n</table>\n</div>"
     },
     "metadata": {},
     "execution_count": 5
    }
   ],
   "source": [
    "by_shopid = df.groupby(['shopid', 'event_time', 'userid']).count().reset_index()\n",
    "by_shopid.head()"
   ]
  },
  {
   "cell_type": "code",
   "execution_count": null,
   "metadata": {},
   "outputs": [],
   "source": []
  },
  {
   "cell_type": "code",
   "execution_count": 6,
   "metadata": {},
   "outputs": [
    {
     "output_type": "execute_result",
     "data": {
      "text/plain": "   shopid          event_time     userid  orderid\n3   10061 2019-12-28 09:27:55  168750452        1\n4   10061 2019-12-28 12:05:32  194819216        1\n5   10061 2019-12-30 21:35:15  130633421        1\n6   10061 2019-12-31 02:58:48   62464559        1",
      "text/html": "<div>\n<style scoped>\n    .dataframe tbody tr th:only-of-type {\n        vertical-align: middle;\n    }\n\n    .dataframe tbody tr th {\n        vertical-align: top;\n    }\n\n    .dataframe thead th {\n        text-align: right;\n    }\n</style>\n<table border=\"1\" class=\"dataframe\">\n  <thead>\n    <tr style=\"text-align: right;\">\n      <th></th>\n      <th>shopid</th>\n      <th>event_time</th>\n      <th>userid</th>\n      <th>orderid</th>\n    </tr>\n  </thead>\n  <tbody>\n    <tr>\n      <th>3</th>\n      <td>10061</td>\n      <td>2019-12-28 09:27:55</td>\n      <td>168750452</td>\n      <td>1</td>\n    </tr>\n    <tr>\n      <th>4</th>\n      <td>10061</td>\n      <td>2019-12-28 12:05:32</td>\n      <td>194819216</td>\n      <td>1</td>\n    </tr>\n    <tr>\n      <th>5</th>\n      <td>10061</td>\n      <td>2019-12-30 21:35:15</td>\n      <td>130633421</td>\n      <td>1</td>\n    </tr>\n    <tr>\n      <th>6</th>\n      <td>10061</td>\n      <td>2019-12-31 02:58:48</td>\n      <td>62464559</td>\n      <td>1</td>\n    </tr>\n  </tbody>\n</table>\n</div>"
     },
     "metadata": {},
     "execution_count": 6
    }
   ],
   "source": [
    "tmp_df = by_shopid[by_shopid['shopid']==10061]\n",
    "tmp_df['event_time'] = pd.to_datetime(tmp_df['event_time'])\n",
    "tmp_df"
   ]
  },
  {
   "cell_type": "code",
   "execution_count": 7,
   "metadata": {},
   "outputs": [
    {
     "output_type": "execute_result",
     "data": {
      "text/plain": "   shopid          event_time     userid  orderid            time_end\n0   10009 2019-12-27 03:06:50  196962305        1 2019-12-27 04:06:50\n1   10051 2019-12-27 19:16:11    2854032        1 2019-12-27 20:16:11\n2   10051 2019-12-29 01:56:19   48600461        1 2019-12-29 02:56:19\n3   10061 2019-12-28 09:27:55  168750452        1 2019-12-28 10:27:55\n4   10061 2019-12-28 12:05:32  194819216        1 2019-12-28 13:05:32",
      "text/html": "<div>\n<style scoped>\n    .dataframe tbody tr th:only-of-type {\n        vertical-align: middle;\n    }\n\n    .dataframe tbody tr th {\n        vertical-align: top;\n    }\n\n    .dataframe thead th {\n        text-align: right;\n    }\n</style>\n<table border=\"1\" class=\"dataframe\">\n  <thead>\n    <tr style=\"text-align: right;\">\n      <th></th>\n      <th>shopid</th>\n      <th>event_time</th>\n      <th>userid</th>\n      <th>orderid</th>\n      <th>time_end</th>\n    </tr>\n  </thead>\n  <tbody>\n    <tr>\n      <th>0</th>\n      <td>10009</td>\n      <td>2019-12-27 03:06:50</td>\n      <td>196962305</td>\n      <td>1</td>\n      <td>2019-12-27 04:06:50</td>\n    </tr>\n    <tr>\n      <th>1</th>\n      <td>10051</td>\n      <td>2019-12-27 19:16:11</td>\n      <td>2854032</td>\n      <td>1</td>\n      <td>2019-12-27 20:16:11</td>\n    </tr>\n    <tr>\n      <th>2</th>\n      <td>10051</td>\n      <td>2019-12-29 01:56:19</td>\n      <td>48600461</td>\n      <td>1</td>\n      <td>2019-12-29 02:56:19</td>\n    </tr>\n    <tr>\n      <th>3</th>\n      <td>10061</td>\n      <td>2019-12-28 09:27:55</td>\n      <td>168750452</td>\n      <td>1</td>\n      <td>2019-12-28 10:27:55</td>\n    </tr>\n    <tr>\n      <th>4</th>\n      <td>10061</td>\n      <td>2019-12-28 12:05:32</td>\n      <td>194819216</td>\n      <td>1</td>\n      <td>2019-12-28 13:05:32</td>\n    </tr>\n  </tbody>\n</table>\n</div>"
     },
     "metadata": {},
     "execution_count": 7
    },
    {
     "output_type": "stream",
     "name": "stdout",
     "text": "<class 'pandas.core.frame.DataFrame'>\nRangeIndex: 222750 entries, 0 to 222749\nData columns (total 5 columns):\n #   Column      Non-Null Count   Dtype         \n---  ------      --------------   -----         \n 0   shopid      222750 non-null  int64         \n 1   event_time  222750 non-null  datetime64[ns]\n 2   userid      222750 non-null  object        \n 3   orderid     222750 non-null  int64         \n 4   time_end    222750 non-null  datetime64[ns]\ndtypes: datetime64[ns](2), int64(2), object(1)\nmemory usage: 8.5+ MB\n"
    }
   ],
   "source": [
    "by_shopid['event_time'] = pd.to_datetime(by_shopid['event_time'])\n",
    "by_shopid['time_end'] = by_shopid['event_time'] + datetime.timedelta(hours=1)\n",
    "by_shopid['userid'] = by_shopid['userid'].apply(str)\n",
    "by_shopid.head()\n",
    "by_shopid.info()"
   ]
  },
  {
   "cell_type": "code",
   "execution_count": 8,
   "metadata": {},
   "outputs": [],
   "source": [
    "my_submission = pd.DataFrame([], columns=['shopid', 'userid'])\n",
    "# num = 0\n",
    "for shop_id in by_shopid['shopid'].unique():\n",
    "    # if num >= 50:\n",
    "    #     break\n",
    "    # num += 1\n",
    "    tmp_df = by_shopid[by_shopid['shopid'] == shop_id]\n",
    "    merge_df = pd.merge(tmp_df.assign(key='shopid'), tmp_df.assign(key='shopid'), on='key').drop('key', axis=1)\n",
    "    final_df = merge_df[(merge_df['event_time_x'] <= merge_df['event_time_y']) & (merge_df['time_end_x'] >= merge_df['event_time_y'])]\n",
    "    merge_df = None\n",
    "\n",
    "    final_df = final_df.drop(['userid_x', 'orderid_x', 'time_end_x', 'shopid_y', 'event_time_y', 'time_end_y'], axis=1)\n",
    "    res = final_df.groupby(['shopid_x', 'event_time_x', 'userid_y']).sum().reset_index()\n",
    "    res = res[res.orderid_y >= 3]\n",
    "    # print(res)\n",
    "    final_df = None\n",
    "    if res.shape[0] == 0:\n",
    "        res = pd.DataFrame({\"shopid\": [shop_id], \"userid\": ['0']})\n",
    "    else:\n",
    "        res['userid_y'] = res[['shopid_x', 'userid_y']].groupby(['shopid_x'])['userid_y'].transform(lambda x: '&'.join(x))\n",
    "        res = res[['shopid_x', 'userid_y']].drop_duplicates()\n",
    "        res.columns = ['shopid', 'userid']\n",
    "    # print(res)\n",
    "    my_submission = my_submission.append(res, ignore_index=True)\n",
    "    # df['text'] = df[['name','text','month']].groupby(['name','month'])['text'].transform(lambda x: ','.join(x))"
   ]
  },
  {
   "cell_type": "code",
   "execution_count": 9,
   "metadata": {},
   "outputs": [],
   "source": [
    "# drop duplicate userid\n",
    "for idx, shop_id in enumerate(my_submission['shopid']):\n",
    "    if my_submission['userid'][idx] == '0':\n",
    "        continue\n",
    "    else:\n",
    "        val = my_submission['userid'][idx]\n",
    "        split_lst = list(set(val.split('&')))\n",
    "        # print(split_lst)\n",
    "        my_submission['userid'][idx] = split_lst\n",
    "my_submission['userid'] = my_submission['userid'].str.join(\"&\") "
   ]
  },
  {
   "cell_type": "code",
   "execution_count": 10,
   "metadata": {},
   "outputs": [],
   "source": [
    "my_submission.to_csv('submission_ray.csv', index=False, header=True)"
   ]
  },
  {
   "cell_type": "code",
   "execution_count": 18,
   "metadata": {},
   "outputs": [
    {
     "output_type": "execute_result",
     "data": {
      "text/plain": "   shopid               userid\n0   10009                    0\n1   10051                    0\n2   10061                    0\n3   10084                    0\n4   10100                    0\n5   10107                    0\n6   10108                    0\n7   10110                    0\n8   10132                    0\n9   10133                    0\n10  10151                    0\n11  10153                    0\n12  10155                    0\n13  10159            214988798\n14  10166                    0\n15  10178                    0\n16  10186                    0\n17  10195                    0\n18  10208                    0\n19  10214                    0\n20  10217                    0\n21  10253                    0\n22  10281                    0\n23  10282                    0\n24  10287  198097381&214226569\n25  10311                    0\n26  10324                    0\n27  10345                    0\n28  10346                    0\n29  10352                    0\n30  10353                    0\n31  10358                    0\n32  10359                    0\n33  10360                    0\n34  10363                    0\n35  10375                    0\n36  10378                    0\n37  10380                    0\n38  10388                    0\n39  10396                    0\n40  10402                77819\n41  10407                    0\n42  10408                    0\n43  10410                    0\n44  10418                    0\n45  10424                    0\n46  10429                    0\n47  10432                    0\n48  10445                    0\n49  10446                    0",
      "text/html": "<div>\n<style scoped>\n    .dataframe tbody tr th:only-of-type {\n        vertical-align: middle;\n    }\n\n    .dataframe tbody tr th {\n        vertical-align: top;\n    }\n\n    .dataframe thead th {\n        text-align: right;\n    }\n</style>\n<table border=\"1\" class=\"dataframe\">\n  <thead>\n    <tr style=\"text-align: right;\">\n      <th></th>\n      <th>shopid</th>\n      <th>userid</th>\n    </tr>\n  </thead>\n  <tbody>\n    <tr>\n      <th>0</th>\n      <td>10009</td>\n      <td>0</td>\n    </tr>\n    <tr>\n      <th>1</th>\n      <td>10051</td>\n      <td>0</td>\n    </tr>\n    <tr>\n      <th>2</th>\n      <td>10061</td>\n      <td>0</td>\n    </tr>\n    <tr>\n      <th>3</th>\n      <td>10084</td>\n      <td>0</td>\n    </tr>\n    <tr>\n      <th>4</th>\n      <td>10100</td>\n      <td>0</td>\n    </tr>\n    <tr>\n      <th>5</th>\n      <td>10107</td>\n      <td>0</td>\n    </tr>\n    <tr>\n      <th>6</th>\n      <td>10108</td>\n      <td>0</td>\n    </tr>\n    <tr>\n      <th>7</th>\n      <td>10110</td>\n      <td>0</td>\n    </tr>\n    <tr>\n      <th>8</th>\n      <td>10132</td>\n      <td>0</td>\n    </tr>\n    <tr>\n      <th>9</th>\n      <td>10133</td>\n      <td>0</td>\n    </tr>\n    <tr>\n      <th>10</th>\n      <td>10151</td>\n      <td>0</td>\n    </tr>\n    <tr>\n      <th>11</th>\n      <td>10153</td>\n      <td>0</td>\n    </tr>\n    <tr>\n      <th>12</th>\n      <td>10155</td>\n      <td>0</td>\n    </tr>\n    <tr>\n      <th>13</th>\n      <td>10159</td>\n      <td>214988798</td>\n    </tr>\n    <tr>\n      <th>14</th>\n      <td>10166</td>\n      <td>0</td>\n    </tr>\n    <tr>\n      <th>15</th>\n      <td>10178</td>\n      <td>0</td>\n    </tr>\n    <tr>\n      <th>16</th>\n      <td>10186</td>\n      <td>0</td>\n    </tr>\n    <tr>\n      <th>17</th>\n      <td>10195</td>\n      <td>0</td>\n    </tr>\n    <tr>\n      <th>18</th>\n      <td>10208</td>\n      <td>0</td>\n    </tr>\n    <tr>\n      <th>19</th>\n      <td>10214</td>\n      <td>0</td>\n    </tr>\n    <tr>\n      <th>20</th>\n      <td>10217</td>\n      <td>0</td>\n    </tr>\n    <tr>\n      <th>21</th>\n      <td>10253</td>\n      <td>0</td>\n    </tr>\n    <tr>\n      <th>22</th>\n      <td>10281</td>\n      <td>0</td>\n    </tr>\n    <tr>\n      <th>23</th>\n      <td>10282</td>\n      <td>0</td>\n    </tr>\n    <tr>\n      <th>24</th>\n      <td>10287</td>\n      <td>198097381&amp;214226569</td>\n    </tr>\n    <tr>\n      <th>25</th>\n      <td>10311</td>\n      <td>0</td>\n    </tr>\n    <tr>\n      <th>26</th>\n      <td>10324</td>\n      <td>0</td>\n    </tr>\n    <tr>\n      <th>27</th>\n      <td>10345</td>\n      <td>0</td>\n    </tr>\n    <tr>\n      <th>28</th>\n      <td>10346</td>\n      <td>0</td>\n    </tr>\n    <tr>\n      <th>29</th>\n      <td>10352</td>\n      <td>0</td>\n    </tr>\n    <tr>\n      <th>30</th>\n      <td>10353</td>\n      <td>0</td>\n    </tr>\n    <tr>\n      <th>31</th>\n      <td>10358</td>\n      <td>0</td>\n    </tr>\n    <tr>\n      <th>32</th>\n      <td>10359</td>\n      <td>0</td>\n    </tr>\n    <tr>\n      <th>33</th>\n      <td>10360</td>\n      <td>0</td>\n    </tr>\n    <tr>\n      <th>34</th>\n      <td>10363</td>\n      <td>0</td>\n    </tr>\n    <tr>\n      <th>35</th>\n      <td>10375</td>\n      <td>0</td>\n    </tr>\n    <tr>\n      <th>36</th>\n      <td>10378</td>\n      <td>0</td>\n    </tr>\n    <tr>\n      <th>37</th>\n      <td>10380</td>\n      <td>0</td>\n    </tr>\n    <tr>\n      <th>38</th>\n      <td>10388</td>\n      <td>0</td>\n    </tr>\n    <tr>\n      <th>39</th>\n      <td>10396</td>\n      <td>0</td>\n    </tr>\n    <tr>\n      <th>40</th>\n      <td>10402</td>\n      <td>77819</td>\n    </tr>\n    <tr>\n      <th>41</th>\n      <td>10407</td>\n      <td>0</td>\n    </tr>\n    <tr>\n      <th>42</th>\n      <td>10408</td>\n      <td>0</td>\n    </tr>\n    <tr>\n      <th>43</th>\n      <td>10410</td>\n      <td>0</td>\n    </tr>\n    <tr>\n      <th>44</th>\n      <td>10418</td>\n      <td>0</td>\n    </tr>\n    <tr>\n      <th>45</th>\n      <td>10424</td>\n      <td>0</td>\n    </tr>\n    <tr>\n      <th>46</th>\n      <td>10429</td>\n      <td>0</td>\n    </tr>\n    <tr>\n      <th>47</th>\n      <td>10432</td>\n      <td>0</td>\n    </tr>\n    <tr>\n      <th>48</th>\n      <td>10445</td>\n      <td>0</td>\n    </tr>\n    <tr>\n      <th>49</th>\n      <td>10446</td>\n      <td>0</td>\n    </tr>\n  </tbody>\n</table>\n</div>"
     },
     "metadata": {},
     "execution_count": 18
    }
   ],
   "source": [
    "my_submission"
   ]
  },
  {
   "cell_type": "code",
   "execution_count": null,
   "metadata": {},
   "outputs": [],
   "source": []
  }
 ],
 "metadata": {
  "language_info": {
   "codemirror_mode": {
    "name": "ipython",
    "version": 3
   },
   "file_extension": ".py",
   "mimetype": "text/x-python",
   "name": "python",
   "nbconvert_exporter": "python",
   "pygments_lexer": "ipython3",
   "version": "3.7.7-final"
  },
  "orig_nbformat": 2,
  "kernelspec": {
   "name": "python3",
   "display_name": "Python 3"
  }
 },
 "nbformat": 4,
 "nbformat_minor": 2
}