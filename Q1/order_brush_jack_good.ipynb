{
 "cells": [
  {
   "cell_type": "code",
   "execution_count": 1,
   "metadata": {},
   "outputs": [],
   "source": [
    "import pandas as pd\n",
    "import datetime as datetime"
   ]
  },
  {
   "cell_type": "code",
   "execution_count": 2,
   "metadata": {},
   "outputs": [
    {
     "output_type": "execute_result",
     "data": {
      "text/plain": "          orderid     shopid     userid           event_time\n0  31076582227611   93950878   30530270  2019-12-27 00:23:03\n1  31118059853484  156423439   46057927  2019-12-27 11:54:20\n2  31123355095755  173699291   67341739  2019-12-27 13:22:35\n3  31122059872723   63674025  149380322  2019-12-27 13:01:00\n4  31117075665123  127249066  149493217  2019-12-27 11:37:55",
      "text/html": "<div>\n<style scoped>\n    .dataframe tbody tr th:only-of-type {\n        vertical-align: middle;\n    }\n\n    .dataframe tbody tr th {\n        vertical-align: top;\n    }\n\n    .dataframe thead th {\n        text-align: right;\n    }\n</style>\n<table border=\"1\" class=\"dataframe\">\n  <thead>\n    <tr style=\"text-align: right;\">\n      <th></th>\n      <th>orderid</th>\n      <th>shopid</th>\n      <th>userid</th>\n      <th>event_time</th>\n    </tr>\n  </thead>\n  <tbody>\n    <tr>\n      <th>0</th>\n      <td>31076582227611</td>\n      <td>93950878</td>\n      <td>30530270</td>\n      <td>2019-12-27 00:23:03</td>\n    </tr>\n    <tr>\n      <th>1</th>\n      <td>31118059853484</td>\n      <td>156423439</td>\n      <td>46057927</td>\n      <td>2019-12-27 11:54:20</td>\n    </tr>\n    <tr>\n      <th>2</th>\n      <td>31123355095755</td>\n      <td>173699291</td>\n      <td>67341739</td>\n      <td>2019-12-27 13:22:35</td>\n    </tr>\n    <tr>\n      <th>3</th>\n      <td>31122059872723</td>\n      <td>63674025</td>\n      <td>149380322</td>\n      <td>2019-12-27 13:01:00</td>\n    </tr>\n    <tr>\n      <th>4</th>\n      <td>31117075665123</td>\n      <td>127249066</td>\n      <td>149493217</td>\n      <td>2019-12-27 11:37:55</td>\n    </tr>\n  </tbody>\n</table>\n</div>"
     },
     "metadata": {},
     "execution_count": 2
    }
   ],
   "source": [
    "# Load CSV\n",
    "readPath = 'order_brush_order.csv'\n",
    "Order_df = pd.read_csv(readPath)\n",
    "df = Order_df.copy()\n",
    "df.head()"
   ]
  },
  {
   "cell_type": "code",
   "execution_count": 3,
   "metadata": {},
   "outputs": [
    {
     "output_type": "execute_result",
     "data": {
      "text/plain": "      shopid     userid           event_time\n0   93950878   30530270  2019-12-27 00:23:03\n1  156423439   46057927  2019-12-27 11:54:20\n2  173699291   67341739  2019-12-27 13:22:35\n3   63674025  149380322  2019-12-27 13:01:00\n4  127249066  149493217  2019-12-27 11:37:55",
      "text/html": "<div>\n<style scoped>\n    .dataframe tbody tr th:only-of-type {\n        vertical-align: middle;\n    }\n\n    .dataframe tbody tr th {\n        vertical-align: top;\n    }\n\n    .dataframe thead th {\n        text-align: right;\n    }\n</style>\n<table border=\"1\" class=\"dataframe\">\n  <thead>\n    <tr style=\"text-align: right;\">\n      <th></th>\n      <th>shopid</th>\n      <th>userid</th>\n      <th>event_time</th>\n    </tr>\n  </thead>\n  <tbody>\n    <tr>\n      <th>0</th>\n      <td>93950878</td>\n      <td>30530270</td>\n      <td>2019-12-27 00:23:03</td>\n    </tr>\n    <tr>\n      <th>1</th>\n      <td>156423439</td>\n      <td>46057927</td>\n      <td>2019-12-27 11:54:20</td>\n    </tr>\n    <tr>\n      <th>2</th>\n      <td>173699291</td>\n      <td>67341739</td>\n      <td>2019-12-27 13:22:35</td>\n    </tr>\n    <tr>\n      <th>3</th>\n      <td>63674025</td>\n      <td>149380322</td>\n      <td>2019-12-27 13:01:00</td>\n    </tr>\n    <tr>\n      <th>4</th>\n      <td>127249066</td>\n      <td>149493217</td>\n      <td>2019-12-27 11:37:55</td>\n    </tr>\n  </tbody>\n</table>\n</div>"
     },
     "metadata": {},
     "execution_count": 3
    }
   ],
   "source": [
    "# Remove unused orderId column\n",
    "del df['orderid']\n",
    "df.head()"
   ]
  },
  {
   "cell_type": "code",
   "execution_count": 4,
   "metadata": {},
   "outputs": [],
   "source": [
    "def format_row_df(row_df):\n",
    "    # covert string to date time, and sort based on event_time\n",
    "    row_df['event_time'] = pd.to_datetime(row_df['event_time'])\n",
    "    row_df = row_df.sort_values(by='event_time')\n",
    "    return row_df"
   ]
  },
  {
   "cell_type": "code",
   "execution_count": 5,
   "metadata": {},
   "outputs": [],
   "source": [
    "def get_buyer_name(window_df):\n",
    "    name_list = []\n",
    "    order_num = len(window_df)\n",
    "    user_num = window_df['userid'].nunique()\n",
    "\n",
    "    if(order_num/user_num >= 3): \n",
    "        series = window_df.loc[:,'userid'].value_counts() # get series based on order total number descending if it is a order brush period\n",
    "        max_num = 3\n",
    "        for item in series.iteritems():\n",
    "            if(item[1])>= max_num:\n",
    "                max_num = item[1]\n",
    "                name_list.append(str(item[0])) # only get the most order number names\n",
    "\n",
    "    return name_list"
   ]
  },
  {
   "cell_type": "code",
   "execution_count": 6,
   "metadata": {},
   "outputs": [],
   "source": [
    "def get_suspicious_buyer(row_df):\n",
    "    row_sus_buyers_list = []\n",
    "\n",
    "    row_df_time_list = row_df['event_time'].to_list() \n",
    "\n",
    "    previous_event_time = row_df_time_list[0] - datetime.timedelta(hours=1)\n",
    "\n",
    "    record_length = len(row_df_time_list)\n",
    "\n",
    "    for start_pointer in range(record_length - 2):\n",
    "        start_time = row_df_time_list[start_pointer]\n",
    "        \n",
    "        for end_pointer in range(start_pointer + 2, record_length):\n",
    "            end_time = row_df_time_list[end_pointer]\n",
    "\n",
    "            if end_time > start_time + datetime.timedelta(hours=1):\n",
    "                break\n",
    "\n",
    "            if end_pointer == record_length - 1:\n",
    "                next_record_time = end_time\n",
    "            else:\n",
    "                next_record_time = row_df_time_list[end_pointer + 1]\n",
    "\n",
    "            if next_record_time <= previous_event_time + datetime.timedelta(hours=1):\n",
    "                end_time = start_time + datetime.timedelta(hours=1)\n",
    "            \n",
    "            window_df = row_df.loc[(row_df['event_time'] >= start_time) & (row_df['event_time'] <= end_time)]\n",
    "\n",
    "            name_list = get_buyer_name(window_df) \n",
    "            # only add distinct name in row_sus_buyers_list\n",
    "            if(len(name_list) > 0):\n",
    "                for name in name_list:\n",
    "                    if(name not in row_sus_buyers_list):\n",
    "                        row_sus_buyers_list.append(name)\n",
    "\n",
    "        previous_event_time = start_time\n",
    "    \n",
    "    return row_sus_buyers_list"
   ]
  },
  {
   "cell_type": "code",
   "execution_count": 7,
   "metadata": {
    "tags": [
     "outputPrepend",
     "outputPrepend",
     "outputPrepend",
     "outputPrepend",
     "outputPrepend",
     "outputPrepend",
     "outputPrepend",
     "outputPrepend",
     "outputPrepend",
     "outputPrepend",
     "outputPrepend",
     "outputPrepend",
     "outputPrepend",
     "outputPrepend",
     "outputPrepend",
     "outputPrepend"
    ]
   },
   "outputs": [
    {
     "output_type": "stream",
     "name": "stdout",
     "text": "Start : 2020-06-16 21:14:13.268896\nRow14: id: 10159 user: 214988798\nRow41: id: 10402 user: 77819\nRow58: id: 10536 user: 672345\nRow112: id: 42472 user: 740844\nRow115: id: 42818 user: 170385453\nRow130: id: 76934 user: 190449497\nRow181: id: 195531 user: 214992524\nRow252: id: 425364 user: 72914921\nRow278: id: 599533 user: 264511\nRow279: id: 605561 user: 181682008\nRow313: id: 722132 user: 7670129\nRow315: id: 731606 user: 75558350\nRow316: id: 736620 user: 62618064\nRow333: id: 769445 user: 141006168\nRow345: id: 823357 user: 188942105\nRow425: id: 1175477 user: 122277324\nRow463: id: 1532569 user: 181408876\nRow567: id: 2831130 user: 15053804\nRow571: id: 2856708 user: 123959597\nRow600: id: 3124091 user: 214568881\nRow650: id: 3701311 user: 80690628\nRow671: id: 4149345 user: 212325226\nRow735: id: 4888564 user: 143847348\nRow837: id: 6765647 user: 740844\nRow960: id: 8566282 user: 556867\nRow967: id: 8715449 user: 9753706\nRow991: id: 8996761 user: 13135622&137245836&162508227&215382704\nRow1004: id: 9153340 user: 197569856\nRow1019: id: 9372692 user: 139795934\nRow1020: id: 9374147 user: 148176353\nRow1029: id: 9466594 user: 84811421\nRow1044: id: 9676950 user: 210920501\nRow1103: id: 10199219 user: 8405753\nRow1106: id: 10206302 user: 95058664\nRow1124: id: 10498480 user: 199416406\nRow1190: id: 11342466 user: 152292010\nRow1202: id: 11474437 user: 148215831\nRow1211: id: 11612863 user: 214546342\nRow1220: id: 11809607 user: 136680607\nRow1222: id: 11849988 user: 148215831\nRow1225: id: 11896733 user: 156614746\nRow1236: id: 12078788 user: 214588488\nRow1270: id: 12537642 user: 48412388\nRow1349: id: 13735592 user: 215424202\nRow1381: id: 14184981 user: 32594\nRow1399: id: 14598427 user: 128702876\nRow1403: id: 14646941 user: 200925208\nRow1469: id: 15920950 user: 211907762\nRow1475: id: 16001939 user: 205729485\nRow1497: id: 16246487 user: 214300427\nRow1527: id: 16613121 user: 192684666\nRow1541: id: 16680589 user: 102125116\nRow1547: id: 16732896 user: 214094512\nRow1567: id: 17011899 user: 115994773\nRow1583: id: 17212658 user: 107170776\nRow1585: id: 17219984 user: 154495684\nRow1642: id: 18190345 user: 89014205\nRow1644: id: 18229789 user: 192400689\nRow1711: id: 19052728 user: 2824209\nRow1810: id: 20522747 user: 170673735\nRow1908: id: 22800308 user: 99997899\nRow2110: id: 27015534 user: 188025647\nRow2119: id: 27121667 user: 183926374\nRow2141: id: 27476241 user: 174145893\nRow2170: id: 27987240 user: 192785138\nRow2194: id: 28091290 user: 114498557\nRow2205: id: 28164269 user: 33794624\nRow2232: id: 28773787 user: 144248285\nRow2244: id: 28812867 user: 199416406\nRow2263: id: 29238238 user: 15861876\nRow2284: id: 29650418 user: 138388930\nRow2304: id: 29979455 user: 107641182\nRow2341: id: 30740877 user: 79239008\nRow2378: id: 31614331 user: 105848455\nRow2423: id: 32729279 user: 205785599\nRow2521: id: 34923033 user: 156774808\nRow2543: id: 35590237 user: 2097773\nRow2584: id: 36641013 user: 92223139\nRow2713: id: 40262957 user: 214804722\nRow2765: id: 41056024 user: 214226569\nRow2772: id: 41246368 user: 81592089\nRow2848: id: 43412276 user: 50672876\nRow2865: id: 43596797 user: 214226569\nRow2922: id: 45084184 user: 116055684\nRow3069: id: 48961570 user: 2803721\nRow3072: id: 48970010 user: 207880909\nRow3134: id: 50682734 user: 214365114\nRow3136: id: 50713918 user: 172106152\nRow3190: id: 51134277 user: 29857724&212200633\nRow3195: id: 51487211 user: 5307816&214808165\nRow3250: id: 52377417 user: 213919641\nRow3337: id: 54054704 user: 9837180\nRow3342: id: 54257623 user: 1974334&107414154\nRow3347: id: 54415227 user: 48207392\nRow3363: id: 54593828 user: 214778616\nRow3477: id: 58543771 user: 61893096\nRow3509: id: 58722428 user: 12425335\nRow3515: id: 58835561 user: 152352709\nRow3517: id: 58853808 user: 214623481\nRow3544: id: 59617008 user: 80682958\nRow3617: id: 60587222 user: 33794624\nRow3753: id: 63001696 user: 81928284\nRow3754: id: 63001745 user: 101866283\nRow3832: id: 63888299 user: 112649507\nRow3889: id: 64369518 user: 172591713\nRow3912: id: 64394533 user: 194833170\nRow3968: id: 65453156 user: 29503\nRow4007: id: 66232769 user: 215123671\nRow4011: id: 66337054 user: 122507717\nRow4021: id: 66391375 user: 194647522\nRow4072: id: 66861410 user: 213502289\nRow4133: id: 68478964 user: 29466045\nRow4141: id: 68609828 user: 183440131\nRow4168: id: 68862371 user: 67554410\nRow4182: id: 68986766 user: 10209247\nRow4247: id: 70009992 user: 215293398\nRow4302: id: 71007731 user: 214778616\nRow4315: id: 71168001 user: 11053808\nRow4377: id: 73103155 user: 214628840\nRow4412: id: 73690472 user: 30244568\nRow4491: id: 75326165 user: 177472272\nRow4520: id: 75622223 user: 69523106\nRow4620: id: 76668593 user: 215224309\nRow4765: id: 78837196 user: 78903959\nRow4846: id: 80049863 user: 123158564\nRow4879: id: 80890996 user: 77374158\nRow4895: id: 81087553 user: 130021933\nRow4912: id: 81190174 user: 77374158\nRow5019: id: 83234229 user: 181942741\nRow5025: id: 83366265 user: 118860287\nRow5041: id: 83440756 user: 26570682\nRow5152: id: 84866704 user: 65814291\nRow5196: id: 85648725 user: 186634585\nRow5219: id: 86285837 user: 119785264\nRow5220: id: 86368642 user: 144612139\nRow5272: id: 86822226 user: 211907762\nRow5298: id: 87063118 user: 178640685\nRow5331: id: 87621695 user: 87846708\nRow5332: id: 87657406 user: 214094512\nRow5348: id: 87845635 user: 215427525\nRow5431: id: 89126206 user: 3295689\nRow5553: id: 91123657 user: 7300419\nRow5583: id: 91638688 user: 214680031\nRow5666: id: 93295101 user: 39834931\nRow5671: id: 93358941 user: 79419297\nRow5709: id: 94154189 user: 15826134\nRow5744: id: 95139064 user: 189834273\nRow5769: id: 95458810 user: 44959060\nRow5816: id: 96460204 user: 193338089\nRow5825: id: 96555082 user: 89312509\nRow5869: id: 96757644 user: 215243653\nRow5871: id: 96757706 user: 61348019\nRow5898: id: 97167904 user: 214778616\nRow5956: id: 98481320 user: 124597967\nRow6001: id: 98768262 user: 150440717\nRow6010: id: 98793086 user: 142710562\nRow6027: id: 99067259 user: 108402614\nRow6064: id: 99836251 user: 197470611\nRow6087: id: 100446829 user: 2434757\nRow6231: id: 103715156 user: 214226569\nRow6245: id: 104245736 user: 188187242\nRow6249: id: 104278513 user: 80682958\nRow6258: id: 104457555 user: 214778616\nRow6277: id: 104590058 user: 81928284\nRow6280: id: 104590579 user: 213714377\nRow6339: id: 104955370 user: 10051694\nRow6345: id: 105064701 user: 214431654\nRow6396: id: 106051591 user: 1276208\nRow6398: id: 106390103 user: 51759862\nRow6457: id: 107189025 user: 35639374&159315857\nRow6486: id: 108064389 user: 212200633\nRow6498: id: 108120403 user: 212200633\nRow6507: id: 108170744 user: 31233680\nRow6524: id: 109628767 user: 214345977\nRow6596: id: 110641390 user: 157946285\nRow6628: id: 110871170 user: 133542654\nRow6797: id: 114016125 user: 214705976\nRow6840: id: 114919380 user: 117199298\nRow6867: id: 115179739 user: 81928284\nRow6884: id: 115506347 user: 200925208\nRow6958: id: 116337057 user: 193415051\nRow6972: id: 116348362 user: 870607\nRow7042: id: 117079735 user: 37915675\nRow7085: id: 118139770 user: 46361526\nRow7140: id: 118949192 user: 211604080\nRow7174: id: 119309887 user: 48412388\nRow7218: id: 119362482 user: 92275977\nRow7260: id: 119595148 user: 17722130\nRow7276: id: 119690532 user: 21402690\nRow7303: id: 120358496 user: 210701971\nRow7316: id: 120692254 user: 214265994\nRow7416: id: 122238789 user: 51759862\nRow7433: id: 122459518 user: 214747060\nRow7463: id: 123401085 user: 12869645\nRow7470: id: 123548863 user: 131515076\nRow7529: id: 126261266 user: 76441165\nRow7542: id: 126587078 user: 26670670\nRow7546: id: 126599655 user: 214327515\nRow7559: id: 126639670 user: 101296643\nRow7661: id: 128299931 user: 215009429\nRow7663: id: 128300567 user: 215236192\nRow7688: id: 129113839 user: 215408773\nRow7709: id: 129460270 user: 48412388\nRow7804: id: 130098983 user: 179997347\nRow7819: id: 130100254 user: 18688337\nRow7872: id: 130118966 user: 86802680\nRow7886: id: 130168935 user: 31892574\nRow7903: id: 130665582 user: 141499072\nRow7983: id: 131387639 user: 192251866\nRow8012: id: 131670390 user: 214094512\nRow8083: id: 132583615 user: 152710183\nRow8125: id: 132834615 user: 159124456\nRow8154: id: 132964122 user: 142710562\nRow8184: id: 133255677 user: 178640685\nRow8376: id: 134418456 user: 214778616\nRow8398: id: 134968430 user: 59725263\nRow8589: id: 135644492 user: 40929352\nRow8622: id: 136564914 user: 178491887&191211430\nRow8662: id: 137762841 user: 62080153\nRow8690: id: 138810304 user: 58467478\nRow8741: id: 139383672 user: 214898782\nRow8769: id: 139743785 user: 179065138\nRow8864: id: 140626153 user: 86570212\nRow8916: id: 141025402 user: 613919\nRow8972: id: 141828266 user: 31713663\nRow9046: id: 143281052 user: 99517130&186080843\nRow9072: id: 143613660 user: 67554410\nRow9112: id: 143899665 user: 215408773\nRow9118: id: 144365607 user: 214411855\nRow9209: id: 145777302 user: 201343856\nRow9228: id: 145986052 user: 63120351\nRow9357: id: 148856653 user: 199382229\nRow9360: id: 148917764 user: 189631941\nRow9407: id: 149725779 user: 70086843\nRow9474: id: 150526730 user: 108214177\nRow9514: id: 151556698 user: 169671453\nRow9556: id: 152234237 user: 36097212\nRow9597: id: 152911522 user: 215169091\nRow9641: id: 153335627 user: 111390406\nRow9646: id: 153444897 user: 169948888\nRow9672: id: 153672697 user: 214778616\nRow9776: id: 154843675 user: 214778616\nRow9796: id: 155016230 user: 188431260\nRow9845: id: 155143347 user: 156202149&214265994\nRow9959: id: 156246169 user: 214778616\nRow9960: id: 156248768 user: 129084826\nRow10025: id: 156883302 user: 68757133&76102350&136087303&187119675&188025647\nRow10048: id: 156995951 user: 204919399\nRow10081: id: 157633413 user: 202607600\nRow10088: id: 157830762 user: 120099470\nRow10109: id: 157939195 user: 69563623\nRow10328: id: 160135616 user: 13949927\nRow10548: id: 161160594 user: 74027394\nRow10599: id: 161196859 user: 180862522\nRow10650: id: 161277691 user: 212200872\nRow10782: id: 162043213 user: 203554877\nRow10915: id: 162282525 user: 162389170\nRow10945: id: 162292584 user: 119654795\nRow11324: id: 163014475 user: 18885346\nRow11717: id: 163351089 user: 214778616\nRow11935: id: 163968828 user: 78903959\nRow12039: id: 165020094 user: 214617593\nRow12093: id: 165500538 user: 93783570\nRow12184: id: 167068287 user: 199416406\nRow12227: id: 168046193 user: 6059093\nRow12250: id: 168388504 user: 148215831\nRow12280: id: 168750844 user: 193338089\nRow12386: id: 169902791 user: 50198835\nRow12517: id: 171407673 user: 211296094\nRow12606: id: 172406176 user: 215115251\nRow12610: id: 172439621 user: 1866916\nRow12652: id: 173186657 user: 96046105\nRow12836: id: 173318671 user: 215301243\nRow12962: id: 173454640 user: 12597591\nRow13149: id: 173478708 user: 81928284\nRow13279: id: 173508019 user: 132704747\nRow13771: id: 175531295 user: 187697407&215009429\nRow13830: id: 176338861 user: 132397558\nRow13868: id: 177817260 user: 98709440\nRow13895: id: 178273138 user: 71152760\nRow14015: id: 180676972 user: 121537666\nRow14052: id: 181009364 user: 101832161&214208720\nRow14077: id: 181744029 user: 199382229\nRow14200: id: 182541768 user: 210932914\nRow14217: id: 182630287 user: 158048102\nRow14244: id: 182853378 user: 144902703\nRow14554: id: 186369695 user: 174783274\nRow14924: id: 187342268 user: 48412388\nRow14959: id: 187570150 user: 2677380\nRow14988: id: 188323737 user: 31215088\nRow15007: id: 188546697 user: 31916119\nRow15043: id: 189031483 user: 211943763\nRow15059: id: 189308408 user: 27456547\nRow15078: id: 189544563 user: 799445\nRow15432: id: 191285578 user: 214925963\nRow15496: id: 191449441 user: 191211430\nRow15543: id: 191674006 user: 179171579\nRow15729: id: 192608876 user: 213646699\nRow15742: id: 192785588 user: 94497233\nRow15748: id: 192919438 user: 4624716\nRow15869: id: 193424291 user: 1762129\nRow16234: id: 195870375 user: 105935455\nRow16314: id: 198172755 user: 129799840\nRow16547: id: 199314784 user: 121537666\nRow16798: id: 201185983 user: 34132265\nRow16893: id: 201428849 user: 89254393\nRow16901: id: 201503467 user: 92521144\nRow16999: id: 201557550 user: 214605778\nRow17207: id: 203070501 user: 189834273\nRow17364: id: 203440274 user: 73308605\nRow17402: id: 203531250 user: 114282846\nRow17961: id: 204225676 user: 198662175\nRow18156: id: 208696908 user: 214111334\nRow18558: id: 210197928 user: 52867898\nRow18705: id: 213141071 user: 213646699\nEnd : 2020-06-16 21:40:18.465245\n"
    }
   ],
   "source": [
    "# convert df to dict\n",
    "df_dict= dict(list(df.groupby(['shopid'])))\n",
    "\n",
    "# disctinct shopid list from dict keys\n",
    "shopid_list = list(df_dict.keys())\n",
    "\n",
    "# declare syspicious buyer's list\n",
    "sus_buyers_list = []\n",
    "\n",
    "print (\"Start : \" + str(datetime.datetime.now()))\n",
    "\n",
    "row_counter = 0\n",
    "for shopid in shopid_list:\n",
    "\n",
    "    row_counter += 1\n",
    "\n",
    "    row_df = df_dict[shopid] # get row df for shopid\n",
    "    \n",
    "    row_df = format_row_df(row_df)\n",
    "\n",
    "    row_sus_buyers_list = get_suspicious_buyer(row_df) # get this shopid sus_buyer_list with distinct name\n",
    "\n",
    "    row_sus_buyers_list.sort(key=int) # smaller numerical userid first\n",
    "    row_sus_buyers_string = '&'.join(row_sus_buyers_list)\n",
    "\n",
    "    if len(row_sus_buyers_string) > 0 :\n",
    "        sus_buyers_list.append(row_sus_buyers_string)\n",
    "        print('Row'+str(row_counter) + ': id: ' +str(shopid) + ' user: ' + row_sus_buyers_string)\n",
    "    else:\n",
    "        sus_buyers_list.append('0')\n",
    "\n",
    "# write CSV  \n",
    "out_put_dict = {'shopid': shopid_list[:len(sus_buyers_list)], 'userid': sus_buyers_list}  \n",
    "     \n",
    "out_put_df = pd.DataFrame(out_put_dict)\n",
    "\n",
    "out_put_df.to_csv('Solution_jack.csv', index=False)\n",
    "\n",
    "print (\"End : \" + str(datetime.datetime.now()))"
   ]
  },
  {
   "cell_type": "code",
   "execution_count": null,
   "metadata": {},
   "outputs": [],
   "source": []
  }
 ],
 "metadata": {
  "language_info": {
   "codemirror_mode": {
    "name": "ipython",
    "version": 3
   },
   "file_extension": ".py",
   "mimetype": "text/x-python",
   "name": "python",
   "nbconvert_exporter": "python",
   "pygments_lexer": "ipython3",
   "version": "3.7.7-final"
  },
  "orig_nbformat": 2,
  "kernelspec": {
   "name": "python3",
   "display_name": "Python 3"
  }
 },
 "nbformat": 4,
 "nbformat_minor": 2
}