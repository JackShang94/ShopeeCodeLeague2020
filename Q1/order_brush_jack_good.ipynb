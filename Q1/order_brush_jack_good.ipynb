{
 "cells": [
  {
   "cell_type": "code",
   "execution_count": null,
   "metadata": {},
   "outputs": [],
   "source": [
    "import pandas as pd\n",
    "import datetime as datetime"
   ]
  },
  {
   "cell_type": "code",
   "execution_count": null,
   "metadata": {},
   "outputs": [],
   "source": [
    "# Load CSV\n",
    "readPath = 'order_brush_order.csv'\n",
    "Order_df = pd.read_csv(readPath)\n",
    "df = Order_df.copy()\n",
    "df.head()"
   ]
  },
  {
   "cell_type": "code",
   "execution_count": null,
   "metadata": {},
   "outputs": [],
   "source": [
    "# Remove unused orderId column\n",
    "del df['orderid']\n",
    "df.head()"
   ]
  },
  {
   "cell_type": "code",
   "execution_count": null,
   "metadata": {},
   "outputs": [],
   "source": [
    "def format_row_df(row_df):\n",
    "    # covert string to date time, and sort based on event_time\n",
    "    row_df['event_time'] = pd.to_datetime(row_df['event_time'])\n",
    "    row_df = row_df.sort_values(by='event_time')\n",
    "    return row_df"
   ]
  },
  {
   "cell_type": "code",
   "execution_count": null,
   "metadata": {},
   "outputs": [],
   "source": [
    "def get_buyer_name(window_df):\n",
    "    name_list = []\n",
    "    order_num = len(window_df)\n",
    "    user_num = window_df['userid'].nunique()\n",
    "\n",
    "    if(order_num/user_num >= 3): \n",
    "        series = window_df.loc[:,'userid'].value_counts() # get series based on order total number descending if it is a order brush period\n",
    "        max_num = 3\n",
    "        for item in series.iteritems():\n",
    "            if(item[1])>= max_num:\n",
    "                max_num = item[1]\n",
    "                name_list.append(str(item[0])) # only get the most order number names\n",
    "\n",
    "    return name_list"
   ]
  },
  {
   "cell_type": "code",
   "execution_count": null,
   "metadata": {},
   "outputs": [],
   "source": [
    "def get_suspicious_buyer(row_df):\n",
    "    row_sus_buyers_list = []\n",
    "\n",
    "    row_df_time_list = row_df['event_time'].to_list() \n",
    "\n",
    "    previous_event_time = row_df_time_list[0] - datetime.timedelta(hours=1)\n",
    "\n",
    "    record_length = len(row_df_time_list)\n",
    "\n",
    "    for start_pointer in range(record_length - 2):\n",
    "        start_time = row_df_time_list[start_pointer]\n",
    "        \n",
    "        for end_pointer in range(start_pointer + 2, record_length):\n",
    "            end_time = row_df_time_list[end_pointer]\n",
    "\n",
    "            if end_time > start_time + datetime.timedelta(hours=1):\n",
    "                break\n",
    "\n",
    "            if end_pointer == record_length - 1:\n",
    "                next_record_time = end_time\n",
    "            else:\n",
    "                next_record_time = row_df_time_list[end_pointer + 1]\n",
    "\n",
    "            if next_record_time <= previous_event_time + datetime.timedelta(hours=1):\n",
    "                end_time = start_time + datetime.timedelta(hours=1)\n",
    "            \n",
    "            window_df = row_df.loc[(row_df['event_time'] >= start_time) & (row_df['event_time'] <= end_time)]\n",
    "\n",
    "            name_list = get_buyer_name(window_df) \n",
    "            # only add distinct name in row_sus_buyers_list\n",
    "            if(len(name_list) > 0):\n",
    "                for name in name_list:\n",
    "                    if(name not in row_sus_buyers_list):\n",
    "                        row_sus_buyers_list.append(name)\n",
    "\n",
    "        previous_event_time = start_time\n",
    "    \n",
    "    return row_sus_buyers_list"
   ]
  },
  {
   "cell_type": "code",
   "execution_count": 12,
   "metadata": {},
   "outputs": [
    {
     "output_type": "execute_result",
     "data": {
      "text/plain": "count    18770.000000\nmean        11.867342\nstd        104.244723\nmin          1.000000\n25%          1.000000\n50%          2.000000\n75%          8.000000\nmax      11703.000000\ndtype: float64"
     },
     "metadata": {},
     "execution_count": 12
    }
   ],
   "source": [
    "df.groupby('shopid').size().describe()\n",
    "# df.groupby('shopid')['userid'].count().sort_values(ascending=False).head(10)"
   ]
  },
  {
   "cell_type": "code",
   "execution_count": 13,
   "metadata": {},
   "outputs": [
    {
     "output_type": "execute_result",
     "data": {
      "text/plain": "shopid\n147941492    11703\n61556313      6691\n54615708      2640\n91799978       707\n57189823       687\n107921853      684\n25924280       655\n89768730       607\n43412276       529\n32504026       516\nName: userid, dtype: int64"
     },
     "metadata": {},
     "execution_count": 13
    }
   ],
   "source": [
    "df.groupby('shopid')['userid'].count().sort_values(ascending=False).head(10)"
   ]
  },
  {
   "cell_type": "code",
   "execution_count": 14,
   "metadata": {},
   "outputs": [
    {
     "output_type": "execute_result",
     "data": {
      "text/plain": "9031"
     },
     "metadata": {},
     "execution_count": 14
    }
   ],
   "source": [
    "order_over3_df = pd.DataFrame(df.groupby('shopid').size()[df.groupby('shopid').size() >= 3])\n",
    "len(order_over3_df)"
   ]
  },
  {
   "cell_type": "code",
   "execution_count": null,
   "metadata": {
    "tags": [
     "outputPrepend",
     "outputPrepend",
     "outputPrepend",
     "outputPrepend",
     "outputPrepend",
     "outputPrepend",
     "outputPrepend",
     "outputPrepend",
     "outputPrepend",
     "outputPrepend",
     "outputPrepend",
     "outputPrepend",
     "outputPrepend",
     "outputPrepend",
     "outputPrepend",
     "outputPrepend"
    ]
   },
   "outputs": [],
   "source": [
    "# convert df to dict\n",
    "df_dict= dict(list(df.groupby(['shopid'])))\n",
    "\n",
    "# disctinct shopid list from dict keys\n",
    "shopid_list = list(df_dict.keys())\n",
    "\n",
    "# declare syspicious buyer's list\n",
    "sus_buyers_list = []\n",
    "\n",
    "print (\"Start : \" + str(datetime.datetime.now()))\n",
    "\n",
    "row_counter = 0\n",
    "for shopid in shopid_list:\n",
    "\n",
    "    row_counter += 1\n",
    "\n",
    "    row_df = df_dict[shopid] # get row df for shopid\n",
    "    \n",
    "    row_df = format_row_df(row_df)\n",
    "\n",
    "    row_sus_buyers_list = get_suspicious_buyer(row_df) # get this shopid sus_buyer_list with distinct name\n",
    "\n",
    "    row_sus_buyers_list.sort(key=int) # smaller numerical userid first\n",
    "    row_sus_buyers_string = '&'.join(row_sus_buyers_list)\n",
    "\n",
    "    if len(row_sus_buyers_string) > 0 :\n",
    "        sus_buyers_list.append(row_sus_buyers_string)\n",
    "        print('Row'+str(row_counter) + ': id: ' +str(shopid) + ' user: ' + row_sus_buyers_string)\n",
    "    else:\n",
    "        sus_buyers_list.append('0')\n",
    "\n",
    "# write CSV  \n",
    "out_put_dict = {'shopid': shopid_list[:len(sus_buyers_list)], 'userid': sus_buyers_list}  \n",
    "     \n",
    "out_put_df = pd.DataFrame(out_put_dict)\n",
    "\n",
    "out_put_df.to_csv('Solution_jack.csv', index=False)\n",
    "\n",
    "print (\"End : \" + str(datetime.datetime.now()))"
   ]
  },
  {
   "cell_type": "code",
   "execution_count": null,
   "metadata": {},
   "outputs": [],
   "source": []
  }
 ],
 "metadata": {
  "language_info": {
   "codemirror_mode": {
    "name": "ipython",
    "version": 3
   },
   "file_extension": ".py",
   "mimetype": "text/x-python",
   "name": "python",
   "nbconvert_exporter": "python",
   "pygments_lexer": "ipython3",
   "version": "3.7.7-final"
  },
  "orig_nbformat": 2,
  "kernelspec": {
   "name": "python3",
   "display_name": "Python 3"
  }
 },
 "nbformat": 4,
 "nbformat_minor": 2
}