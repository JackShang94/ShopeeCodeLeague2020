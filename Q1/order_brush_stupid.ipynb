{
 "cells": [
  {
   "cell_type": "code",
   "execution_count": 1,
   "metadata": {},
   "outputs": [],
   "source": [
    "import pandas as pd\n",
    "import datetime as datetime"
   ]
  },
  {
   "cell_type": "code",
   "execution_count": 2,
   "metadata": {},
   "outputs": [
    {
     "output_type": "execute_result",
     "data": {
      "text/plain": "          orderid     shopid     userid           event_time\n0  31076582227611   93950878   30530270  2019-12-27 00:23:03\n1  31118059853484  156423439   46057927  2019-12-27 11:54:20\n2  31123355095755  173699291   67341739  2019-12-27 13:22:35\n3  31122059872723   63674025  149380322  2019-12-27 13:01:00\n4  31117075665123  127249066  149493217  2019-12-27 11:37:55",
      "text/html": "<div>\n<style scoped>\n    .dataframe tbody tr th:only-of-type {\n        vertical-align: middle;\n    }\n\n    .dataframe tbody tr th {\n        vertical-align: top;\n    }\n\n    .dataframe thead th {\n        text-align: right;\n    }\n</style>\n<table border=\"1\" class=\"dataframe\">\n  <thead>\n    <tr style=\"text-align: right;\">\n      <th></th>\n      <th>orderid</th>\n      <th>shopid</th>\n      <th>userid</th>\n      <th>event_time</th>\n    </tr>\n  </thead>\n  <tbody>\n    <tr>\n      <th>0</th>\n      <td>31076582227611</td>\n      <td>93950878</td>\n      <td>30530270</td>\n      <td>2019-12-27 00:23:03</td>\n    </tr>\n    <tr>\n      <th>1</th>\n      <td>31118059853484</td>\n      <td>156423439</td>\n      <td>46057927</td>\n      <td>2019-12-27 11:54:20</td>\n    </tr>\n    <tr>\n      <th>2</th>\n      <td>31123355095755</td>\n      <td>173699291</td>\n      <td>67341739</td>\n      <td>2019-12-27 13:22:35</td>\n    </tr>\n    <tr>\n      <th>3</th>\n      <td>31122059872723</td>\n      <td>63674025</td>\n      <td>149380322</td>\n      <td>2019-12-27 13:01:00</td>\n    </tr>\n    <tr>\n      <th>4</th>\n      <td>31117075665123</td>\n      <td>127249066</td>\n      <td>149493217</td>\n      <td>2019-12-27 11:37:55</td>\n    </tr>\n  </tbody>\n</table>\n</div>"
     },
     "metadata": {},
     "execution_count": 2
    }
   ],
   "source": [
    "# Load CSV\n",
    "readPath = 'order_brush_order.csv'\n",
    "Order_df = pd.read_csv(readPath)\n",
    "df = Order_df.copy()\n",
    "df.head()"
   ]
  },
  {
   "cell_type": "code",
   "execution_count": 3,
   "metadata": {},
   "outputs": [
    {
     "output_type": "execute_result",
     "data": {
      "text/plain": "      shopid     userid           event_time\n0   93950878   30530270  2019-12-27 00:23:03\n1  156423439   46057927  2019-12-27 11:54:20\n2  173699291   67341739  2019-12-27 13:22:35\n3   63674025  149380322  2019-12-27 13:01:00\n4  127249066  149493217  2019-12-27 11:37:55",
      "text/html": "<div>\n<style scoped>\n    .dataframe tbody tr th:only-of-type {\n        vertical-align: middle;\n    }\n\n    .dataframe tbody tr th {\n        vertical-align: top;\n    }\n\n    .dataframe thead th {\n        text-align: right;\n    }\n</style>\n<table border=\"1\" class=\"dataframe\">\n  <thead>\n    <tr style=\"text-align: right;\">\n      <th></th>\n      <th>shopid</th>\n      <th>userid</th>\n      <th>event_time</th>\n    </tr>\n  </thead>\n  <tbody>\n    <tr>\n      <th>0</th>\n      <td>93950878</td>\n      <td>30530270</td>\n      <td>2019-12-27 00:23:03</td>\n    </tr>\n    <tr>\n      <th>1</th>\n      <td>156423439</td>\n      <td>46057927</td>\n      <td>2019-12-27 11:54:20</td>\n    </tr>\n    <tr>\n      <th>2</th>\n      <td>173699291</td>\n      <td>67341739</td>\n      <td>2019-12-27 13:22:35</td>\n    </tr>\n    <tr>\n      <th>3</th>\n      <td>63674025</td>\n      <td>149380322</td>\n      <td>2019-12-27 13:01:00</td>\n    </tr>\n    <tr>\n      <th>4</th>\n      <td>127249066</td>\n      <td>149493217</td>\n      <td>2019-12-27 11:37:55</td>\n    </tr>\n  </tbody>\n</table>\n</div>"
     },
     "metadata": {},
     "execution_count": 3
    }
   ],
   "source": [
    "# Remove unused orderId column\n",
    "del df['orderid']\n",
    "df.head()"
   ]
  },
  {
   "cell_type": "code",
   "execution_count": 4,
   "metadata": {},
   "outputs": [],
   "source": [
    "def format_row_df(row_df):\n",
    "    # covert string to date time, and sort based on event_time\n",
    "    row_df['event_time'] = pd.to_datetime(row_df['event_time'])\n",
    "    row_df = row_df.sort_values(by='event_time')\n",
    "    return row_df"
   ]
  },
  {
   "cell_type": "code",
   "execution_count": 5,
   "metadata": {},
   "outputs": [],
   "source": [
    "def get_buyer_name(window_df):\n",
    "    name_list = []\n",
    "    order_num = len(window_df)\n",
    "    user_num = window_df['userid'].nunique()\n",
    "\n",
    "    if(order_num/user_num >= 3): \n",
    "        series = window_df.loc[:,'userid'].value_counts() # get series based on order total number descending if it is a order brush period\n",
    "        max_num = 3\n",
    "        for item in series.iteritems():\n",
    "            if(item[1])>= max_num:\n",
    "                max_num = item[1]\n",
    "                name_list.append(str(item[0])) # only get the most order number names\n",
    "\n",
    "    return name_list"
   ]
  },
  {
   "cell_type": "code",
   "execution_count": 6,
   "metadata": {},
   "outputs": [],
   "source": [
    "def get_suspicious_buyer(row_df):\n",
    "    row_sus_buyers_list = []\n",
    "\n",
    "    row_df_time_list = row_df['event_time'].to_list() \n",
    "\n",
    "    # Loop the list_time_window_start, get the dataframe window between start_time and end_time\n",
    "    for event_time in row_df_time_list:\n",
    "        time_pointer_start_time = event_time - datetime.timedelta(hours=1)\n",
    "        time_pointer_end_time = event_time\n",
    "        time_pointer = time_pointer_start_time\n",
    "        \n",
    "        pre_window_df = pd.DataFrame(columns = row_df.columns)\n",
    "\n",
    "        while time_pointer <= time_pointer_end_time:\n",
    "            window_start_time = time_pointer\n",
    "            window_end_time = time_pointer + datetime.timedelta(hours=1)\n",
    "            \n",
    "            window_df = row_df.loc[(row_df['event_time'] >= window_start_time) & (row_df['event_time'] <= window_end_time)]\n",
    "            time_pointer = time_pointer + datetime.timedelta(seconds=60)\n",
    "\n",
    "            if(not pre_window_df.equals(window_df)):\n",
    "                if(len(window_df) >= 3):\n",
    "                    name_list = get_buyer_name(window_df) \n",
    "                    # only add distinct name in row_sus_buyers_list\n",
    "                    if(len(name_list) > 0):\n",
    "                        for name in name_list:\n",
    "                            if(name not in row_sus_buyers_list):\n",
    "                                row_sus_buyers_list.append(name)\n",
    "\n",
    "                pre_window_df = window_df\n",
    "    \n",
    "    return row_sus_buyers_list"
   ]
  },
  {
   "cell_type": "code",
   "execution_count": 7,
   "metadata": {
    "tags": [
     "outputPrepend",
     "outputPrepend",
     "outputPrepend",
     "outputPrepend",
     "outputPrepend",
     "outputPrepend",
     "outputPrepend",
     "outputPrepend",
     "outputPrepend",
     "outputPrepend",
     "outputPrepend",
     "outputPrepend",
     "outputPrepend",
     "outputPrepend",
     "outputPrepend",
     "outputPrepend"
    ]
   },
   "outputs": [
    {
     "output_type": "stream",
     "name": "stdout",
     "text": "Start : 2020-06-15 19:30:56.453029\nEnd : 2020-06-15 19:35:27.030248\n"
    }
   ],
   "source": [
    "# convert df to dict\n",
    "df_dict= dict(list(df.groupby(['shopid'])))\n",
    "\n",
    "# disctinct shopid list from dict keys\n",
    "shopid_list = list(df_dict.keys())\n",
    "\n",
    "# declare syspicious buyer's list\n",
    "sus_buyers_list = []\n",
    "\n",
    "print (\"Start : \" + str(datetime.datetime.now()))\n",
    "\n",
    "num = 0\n",
    "for shopid in shopid_list:\n",
    "\n",
    "    if num >= 500:\n",
    "        break\n",
    "    num += 1\n",
    "\n",
    "    row_df = df_dict[shopid] # get row df for shopid\n",
    "    \n",
    "    row_df = format_row_df(row_df)\n",
    "\n",
    "    row_sus_buyers_list = get_suspicious_buyer(row_df) # get this shopid sus_buyer_list with distinct name\n",
    "\n",
    "    row_sus_buyers_list.sort() # smaller numerical userid first\n",
    "    row_sus_buyers_string = '&'.join(row_sus_buyers_list)\n",
    "\n",
    "    if len(row_sus_buyers_string) > 0 :\n",
    "        sus_buyers_list.append(row_sus_buyers_string)\n",
    "    else:\n",
    "        sus_buyers_list.append('0')\n",
    "\n",
    "# write CSV  \n",
    "out_put_dict = {'shopid': shopid_list[:len(sus_buyers_list)], 'userid': sus_buyers_list}  \n",
    "     \n",
    "out_put_df = pd.DataFrame(out_put_dict)\n",
    "\n",
    "out_put_df.to_csv('Solution_jack.csv', index=False)\n",
    "\n",
    "print (\"End : \" + str(datetime.datetime.now()))"
   ]
  }
 ],
 "metadata": {
  "language_info": {
   "codemirror_mode": {
    "name": "ipython",
    "version": 3
   },
   "file_extension": ".py",
   "mimetype": "text/x-python",
   "name": "python",
   "nbconvert_exporter": "python",
   "pygments_lexer": "ipython3",
   "version": "3.7.7-final"
  },
  "orig_nbformat": 2,
  "kernelspec": {
   "name": "python3",
   "display_name": "Python 3"
  }
 },
 "nbformat": 4,
 "nbformat_minor": 2
}