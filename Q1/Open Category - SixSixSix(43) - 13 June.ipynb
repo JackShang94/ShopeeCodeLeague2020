{
 "cells": [
  {
   "cell_type": "code",
   "execution_count": 8,
   "metadata": {},
   "outputs": [],
   "source": [
    "import pandas as pd\n",
    "import numpy as np\n",
    "import datetime as datetime\n",
    "%matplotlib inline\n",
    "\n",
    "from IPython.core.interactiveshell import InteractiveShell\n",
    "InteractiveShell.ast_node_interactivity = \"all\"\n",
    "\n",
    "pd.set_option('display.max_colwidth', 500)"
   ]
  },
  {
   "cell_type": "code",
   "execution_count": 9,
   "metadata": {},
   "outputs": [
    {
     "output_type": "execute_result",
     "data": {
      "text/plain": "          orderid     shopid     userid           event_time\n0  31076582227611   93950878   30530270  2019-12-27 00:23:03\n1  31118059853484  156423439   46057927  2019-12-27 11:54:20\n2  31123355095755  173699291   67341739  2019-12-27 13:22:35\n3  31122059872723   63674025  149380322  2019-12-27 13:01:00\n4  31117075665123  127249066  149493217  2019-12-27 11:37:55",
      "text/html": "<div>\n<style scoped>\n    .dataframe tbody tr th:only-of-type {\n        vertical-align: middle;\n    }\n\n    .dataframe tbody tr th {\n        vertical-align: top;\n    }\n\n    .dataframe thead th {\n        text-align: right;\n    }\n</style>\n<table border=\"1\" class=\"dataframe\">\n  <thead>\n    <tr style=\"text-align: right;\">\n      <th></th>\n      <th>orderid</th>\n      <th>shopid</th>\n      <th>userid</th>\n      <th>event_time</th>\n    </tr>\n  </thead>\n  <tbody>\n    <tr>\n      <th>0</th>\n      <td>31076582227611</td>\n      <td>93950878</td>\n      <td>30530270</td>\n      <td>2019-12-27 00:23:03</td>\n    </tr>\n    <tr>\n      <th>1</th>\n      <td>31118059853484</td>\n      <td>156423439</td>\n      <td>46057927</td>\n      <td>2019-12-27 11:54:20</td>\n    </tr>\n    <tr>\n      <th>2</th>\n      <td>31123355095755</td>\n      <td>173699291</td>\n      <td>67341739</td>\n      <td>2019-12-27 13:22:35</td>\n    </tr>\n    <tr>\n      <th>3</th>\n      <td>31122059872723</td>\n      <td>63674025</td>\n      <td>149380322</td>\n      <td>2019-12-27 13:01:00</td>\n    </tr>\n    <tr>\n      <th>4</th>\n      <td>31117075665123</td>\n      <td>127249066</td>\n      <td>149493217</td>\n      <td>2019-12-27 11:37:55</td>\n    </tr>\n  </tbody>\n</table>\n</div>"
     },
     "metadata": {},
     "execution_count": 9
    }
   ],
   "source": [
    "# Load data\n",
    "Order_df = pd.read_csv('order_brush_order.csv',dtype={'bank_account':np.datetime64}) \n",
    "df = Order_df.copy()\n",
    "df.head()"
   ]
  },
  {
   "cell_type": "code",
   "execution_count": 10,
   "metadata": {},
   "outputs": [
    {
     "output_type": "execute_result",
     "data": {
      "text/plain": "   shopid           event_time     userid  orderid\n0   10009  2019-12-27 03:06:50  196962305        1\n1   10051  2019-12-27 19:16:11    2854032        1\n2   10051  2019-12-29 01:56:19   48600461        1\n3   10061  2019-12-28 09:27:55  168750452        1\n4   10061  2019-12-28 12:05:32  194819216        1",
      "text/html": "<div>\n<style scoped>\n    .dataframe tbody tr th:only-of-type {\n        vertical-align: middle;\n    }\n\n    .dataframe tbody tr th {\n        vertical-align: top;\n    }\n\n    .dataframe thead th {\n        text-align: right;\n    }\n</style>\n<table border=\"1\" class=\"dataframe\">\n  <thead>\n    <tr style=\"text-align: right;\">\n      <th></th>\n      <th>shopid</th>\n      <th>event_time</th>\n      <th>userid</th>\n      <th>orderid</th>\n    </tr>\n  </thead>\n  <tbody>\n    <tr>\n      <th>0</th>\n      <td>10009</td>\n      <td>2019-12-27 03:06:50</td>\n      <td>196962305</td>\n      <td>1</td>\n    </tr>\n    <tr>\n      <th>1</th>\n      <td>10051</td>\n      <td>2019-12-27 19:16:11</td>\n      <td>2854032</td>\n      <td>1</td>\n    </tr>\n    <tr>\n      <th>2</th>\n      <td>10051</td>\n      <td>2019-12-29 01:56:19</td>\n      <td>48600461</td>\n      <td>1</td>\n    </tr>\n    <tr>\n      <th>3</th>\n      <td>10061</td>\n      <td>2019-12-28 09:27:55</td>\n      <td>168750452</td>\n      <td>1</td>\n    </tr>\n    <tr>\n      <th>4</th>\n      <td>10061</td>\n      <td>2019-12-28 12:05:32</td>\n      <td>194819216</td>\n      <td>1</td>\n    </tr>\n  </tbody>\n</table>\n</div>"
     },
     "metadata": {},
     "execution_count": 10
    },
    {
     "output_type": "stream",
     "name": "stdout",
     "text": "<class 'pandas.core.frame.DataFrame'>\nRangeIndex: 222750 entries, 0 to 222749\nData columns (total 4 columns):\n #   Column      Non-Null Count   Dtype \n---  ------      --------------   ----- \n 0   shopid      222750 non-null  int64 \n 1   event_time  222750 non-null  object\n 2   userid      222750 non-null  int64 \n 3   orderid     222750 non-null  int64 \ndtypes: int64(3), object(1)\nmemory usage: 6.8+ MB\n"
    }
   ],
   "source": [
    "by_shopid = df.groupby(['shopid', 'event_time', 'userid']).count().reset_index()\n",
    "by_shopid.head()\n",
    "by_shopid.info()"
   ]
  },
  {
   "cell_type": "code",
   "execution_count": 11,
   "metadata": {},
   "outputs": [
    {
     "output_type": "execute_result",
     "data": {
      "text/plain": "   shopid          event_time     userid  orderid            time_end\n0   10009 2019-12-27 03:06:50  196962305        1 2019-12-27 04:06:50\n1   10051 2019-12-27 19:16:11    2854032        1 2019-12-27 20:16:11\n2   10051 2019-12-29 01:56:19   48600461        1 2019-12-29 02:56:19\n3   10061 2019-12-28 09:27:55  168750452        1 2019-12-28 10:27:55\n4   10061 2019-12-28 12:05:32  194819216        1 2019-12-28 13:05:32",
      "text/html": "<div>\n<style scoped>\n    .dataframe tbody tr th:only-of-type {\n        vertical-align: middle;\n    }\n\n    .dataframe tbody tr th {\n        vertical-align: top;\n    }\n\n    .dataframe thead th {\n        text-align: right;\n    }\n</style>\n<table border=\"1\" class=\"dataframe\">\n  <thead>\n    <tr style=\"text-align: right;\">\n      <th></th>\n      <th>shopid</th>\n      <th>event_time</th>\n      <th>userid</th>\n      <th>orderid</th>\n      <th>time_end</th>\n    </tr>\n  </thead>\n  <tbody>\n    <tr>\n      <th>0</th>\n      <td>10009</td>\n      <td>2019-12-27 03:06:50</td>\n      <td>196962305</td>\n      <td>1</td>\n      <td>2019-12-27 04:06:50</td>\n    </tr>\n    <tr>\n      <th>1</th>\n      <td>10051</td>\n      <td>2019-12-27 19:16:11</td>\n      <td>2854032</td>\n      <td>1</td>\n      <td>2019-12-27 20:16:11</td>\n    </tr>\n    <tr>\n      <th>2</th>\n      <td>10051</td>\n      <td>2019-12-29 01:56:19</td>\n      <td>48600461</td>\n      <td>1</td>\n      <td>2019-12-29 02:56:19</td>\n    </tr>\n    <tr>\n      <th>3</th>\n      <td>10061</td>\n      <td>2019-12-28 09:27:55</td>\n      <td>168750452</td>\n      <td>1</td>\n      <td>2019-12-28 10:27:55</td>\n    </tr>\n    <tr>\n      <th>4</th>\n      <td>10061</td>\n      <td>2019-12-28 12:05:32</td>\n      <td>194819216</td>\n      <td>1</td>\n      <td>2019-12-28 13:05:32</td>\n    </tr>\n  </tbody>\n</table>\n</div>"
     },
     "metadata": {},
     "execution_count": 11
    },
    {
     "output_type": "stream",
     "name": "stdout",
     "text": "<class 'pandas.core.frame.DataFrame'>\nRangeIndex: 222750 entries, 0 to 222749\nData columns (total 5 columns):\n #   Column      Non-Null Count   Dtype         \n---  ------      --------------   -----         \n 0   shopid      222750 non-null  int64         \n 1   event_time  222750 non-null  datetime64[ns]\n 2   userid      222750 non-null  object        \n 3   orderid     222750 non-null  int64         \n 4   time_end    222750 non-null  datetime64[ns]\ndtypes: datetime64[ns](2), int64(2), object(1)\nmemory usage: 8.5+ MB\n"
    }
   ],
   "source": [
    "by_shopid['event_time'] = pd.to_datetime(by_shopid['event_time'])\n",
    "by_shopid['time_end'] = by_shopid['event_time'] + datetime.timedelta(hours=1)\n",
    "by_shopid['userid'] = by_shopid['userid'].apply(str)\n",
    "by_shopid.head()\n",
    "by_shopid.info()"
   ]
  },
  {
   "cell_type": "code",
   "execution_count": 12,
   "metadata": {},
   "outputs": [],
   "source": [
    "my_submission = pd.DataFrame([], columns=['shopid', 'userid'])\n",
    "num = 0\n",
    "for shop_id in by_shopid['shopid'].unique():\n",
    "    # if num >= 20:\n",
    "    #     break\n",
    "    # num += 1\n",
    "    # if shop_id != 10287:\n",
    "    #     continue\n",
    "\n",
    "    tmp_df = by_shopid[by_shopid['shopid'] == shop_id]\n",
    "    merge_df = pd.merge(tmp_df.assign(key='shopid'), tmp_df.assign(key='shopid'), on='key').drop('key', axis=1)\n",
    "    final_df = merge_df[(merge_df['event_time_x'] <= merge_df['event_time_y']) & (merge_df['time_end_x'] >= merge_df['event_time_y'])]\n",
    "    tmp_df = None\n",
    "    merge_df = None\n",
    "\n",
    "    final_df = final_df.drop(['userid_x', 'orderid_x', 'time_end_x', 'shopid_y', 'event_time_y', 'time_end_y'], axis=1)\n",
    "    res = final_df.groupby(['shopid_x', 'event_time_x', 'userid_y']).sum()\n",
    "    res = res[res.orderid_y >= 3]\n",
    "    # print(res)\n",
    "    if res.shape[0] > 0:\n",
    "        res = res - res.mean(level='event_time_x')\n",
    "        # print(res_max)\n",
    "        res = res[res.orderid_y >= 0]\n",
    "    res.reset_index(inplace=True)\n",
    "    final_df = None\n",
    "    if res.shape[0] == 0:\n",
    "        res = pd.DataFrame({\"shopid\": [shop_id], \"userid\": ['0']})\n",
    "    else:\n",
    "        res['userid_y'] = res[['shopid_x', 'userid_y']].groupby(['shopid_x'])['userid_y'].transform(lambda x: '&'.join(x))\n",
    "        res = res[['shopid_x', 'userid_y']].drop_duplicates()\n",
    "        res.columns = ['shopid', 'userid']\n",
    "    # print(res)\n",
    "    my_submission = my_submission.append(res, ignore_index=True)\n",
    "    # my_submission.update(zip(res))\n",
    "    # df['text'] = df[['name','text','month']].groupby(['name','month'])['text'].transform(lambda x: ','.join(x))"
   ]
  },
  {
   "cell_type": "code",
   "execution_count": 13,
   "metadata": {},
   "outputs": [],
   "source": [
    "# drop duplicate userid\n",
    "for idx, shop_id in enumerate(my_submission['shopid']):\n",
    "    if my_submission['userid'][idx] == '0':\n",
    "        continue\n",
    "    else:\n",
    "        val = my_submission['userid'][idx]\n",
    "        split_lst = list(set(val.split('&')))\n",
    "        # print(split_lst)\n",
    "        my_submission['userid'][idx] = split_lst\n",
    "my_submission['userid'] = my_submission['userid'].str.join(\"&\") "
   ]
  },
  {
   "cell_type": "code",
   "execution_count": 14,
   "metadata": {},
   "outputs": [],
   "source": [
    "my_submission.to_csv('submission_ray.csv', index=False, header=True)"
   ]
  }
 ],
 "metadata": {
  "language_info": {
   "codemirror_mode": {
    "name": "ipython",
    "version": 3
   },
   "file_extension": ".py",
   "mimetype": "text/x-python",
   "name": "python",
   "nbconvert_exporter": "python",
   "pygments_lexer": "ipython3",
   "version": "3.7.7-final"
  },
  "orig_nbformat": 2,
  "kernelspec": {
   "name": "python3",
   "display_name": "Python 3"
  }
 },
 "nbformat": 4,
 "nbformat_minor": 2
}