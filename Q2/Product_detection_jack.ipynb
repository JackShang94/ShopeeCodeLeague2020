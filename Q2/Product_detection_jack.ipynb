{
 "cells": [
  {
   "cell_type": "markdown",
   "metadata": {},
   "source": [
    "## Import libraries "
   ]
  },
  {
   "cell_type": "code",
   "execution_count": 1,
   "metadata": {},
   "outputs": [
    {
     "output_type": "error",
     "ename": "ModuleNotFoundError",
     "evalue": "No module named 'torch'",
     "traceback": [
      "\u001b[1;31m---------------------------------------------------------------------------\u001b[0m",
      "\u001b[1;31mModuleNotFoundError\u001b[0m                       Traceback (most recent call last)",
      "\u001b[1;32m<ipython-input-1-64cce555e20c>\u001b[0m in \u001b[0;36m<module>\u001b[1;34m\u001b[0m\n\u001b[1;32m----> 1\u001b[1;33m \u001b[1;32mimport\u001b[0m \u001b[0mtorch\u001b[0m\u001b[1;33m\u001b[0m\u001b[1;33m\u001b[0m\u001b[0m\n\u001b[0m\u001b[0;32m      2\u001b[0m \u001b[1;32mimport\u001b[0m \u001b[0mtorchvision\u001b[0m\u001b[1;33m\u001b[0m\u001b[1;33m\u001b[0m\u001b[0m\n",
      "\u001b[1;31mModuleNotFoundError\u001b[0m: No module named 'torch'"
     ]
    }
   ],
   "source": [
    "import torch \n",
    "import torchvision"
   ]
  },
  {
   "cell_type": "code",
   "execution_count": null,
   "metadata": {},
   "outputs": [],
   "source": [
    "print(torch)\n",
    "print(torchvision)\n",
    "print(torch.__version__)\n",
    "print(torchvision.__version__)\n",
    "print(torch.cuda.is_available())"
   ]
  },
  {
   "cell_type": "code",
   "execution_count": 3,
   "metadata": {},
   "outputs": [],
   "source": [
    "import pandas as pd\n",
    "import os"
   ]
  },
  {
   "cell_type": "markdown",
   "metadata": {},
   "source": [
    "## Load dataset"
   ]
  },
  {
   "cell_type": "code",
   "execution_count": 4,
   "metadata": {
    "tags": []
   },
   "outputs": [
    {
     "output_type": "stream",
     "name": "stdout",
     "text": "test_df: 12186\ntrain_df: 105392\nd:\\PythonProjects\\ShopeeCodeLeague2020\\Q2\\dataset\\shopee-product-detection-dataset\\test\\\nd:\\PythonProjects\\ShopeeCodeLeague2020\\Q2\\dataset\\shopee-product-detection-dataset\\train\\\n"
    }
   ],
   "source": [
    "# Load CSV\n",
    "curPath = os.getcwd() # d:\\PythonProjects\\ShopeeCodeLeague2020\\Q2\n",
    "readPath = curPath +'\\\\dataset\\\\shopee-product-detection-dataset\\\\'\n",
    "testCSVPath = readPath + 'test.csv'\n",
    "trainCSVPath = readPath + 'train.csv'\n",
    "\n",
    "test_df = pd.read_csv(testCSVPath)\n",
    "print('test_df: ' + str(len(test_df)))\n",
    "train_df = pd.read_csv(trainCSVPath)\n",
    "print('train_df: ' + str(len(train_df)))\n",
    "\n",
    "test_png_path = readPath + 'test\\\\'\n",
    "train_png_path = readPath + 'train\\\\'\n",
    "print(test_png_path)\n",
    "print(train_png_path)"
   ]
  },
  {
   "cell_type": "code",
   "execution_count": null,
   "metadata": {},
   "outputs": [],
   "source": []
  }
 ],
 "metadata": {
  "language_info": {
   "codemirror_mode": {
    "name": "ipython",
    "version": 3
   },
   "file_extension": ".py",
   "mimetype": "text/x-python",
   "name": "python",
   "nbconvert_exporter": "python",
   "pygments_lexer": "ipython3",
   "version": "3.7.7-final"
  },
  "orig_nbformat": 2,
  "kernelspec": {
   "name": "python3",
   "display_name": "Python 3"
  }
 },
 "nbformat": 4,
 "nbformat_minor": 2
}