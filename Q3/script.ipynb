{
 "cells": [
  {
   "cell_type": "code",
   "execution_count": 16,
   "metadata": {},
   "outputs": [],
   "source": [
    "def getServer(server_num, input_list, result):\n",
    "    list_length = len(input_list)\n",
    "    least_num = min(i for i in input_list if i > 0)\n",
    "    index_num = input_list.index(least_num)\n",
    "    result = result + least_num\n",
    "\n",
    "    if index_num >= 1 and index_num <= (list_length-2):\n",
    "        input_list[index_num] = -1\n",
    "        if input_list[index_num -1] > input_list[index_num + 1]:\n",
    "            input_list[index_num -1] = -1\n",
    "        elif input_list[index_num -1] < input_list[index_num + 1]:\n",
    "            input_list[index_num + 1] = -1\n",
    "        elif input_list[index_num -1] == input_list[index_num + 1]:\n",
    "            if index_num -1 == 0 and index_num + 1 == list_length:\n",
    "                input_list[index_num -1] = -1 \n",
    "            elif index_num -1 == 0 and index_num + 1 != list_length:\n",
    "                input_list[index_num -1] = -1\n",
    "            elif index_num -1 != 0 and index_num + 1 == list_length:\n",
    "                input_list[index_num + 1] = -1        \n",
    "\n",
    "    if index_num == 0:\n",
    "        input_list[index_num + 1] = -1\n",
    "    \n",
    "    if index_num == list_length -1:\n",
    "        input_list[index_num -1] = -1\n",
    "\n",
    "    server_num = server_num -2\n",
    "\n",
    "    if server_num > 0:\n",
    "        getServer(server_num, input_list, result)\n",
    "    else:\n",
    "        print(result)"
   ]
  },
  {
   "cell_type": "code",
   "execution_count": 17,
   "metadata": {
    "tags": []
   },
   "outputs": [
    {
     "output_type": "stream",
     "name": "stdout",
     "text": "115\n"
    }
   ],
   "source": [
    "test_list = [1000, 560, 30, 85, 100]\n",
    "result = 0\n",
    "getServer(3,test_list, result)"
   ]
  },
  {
   "cell_type": "code",
   "execution_count": 18,
   "metadata": {
    "tags": []
   },
   "outputs": [
    {
     "output_type": "stream",
     "name": "stdout",
     "text": "14\n"
    }
   ],
   "source": [
    "test_list2 = [15, 14, 15]\n",
    "result2 = 0\n",
    "getServer(2,test_list2, result2)"
   ]
  },
  {
   "cell_type": "code",
   "execution_count": null,
   "metadata": {},
   "outputs": [],
   "source": []
  }
 ],
 "metadata": {
  "language_info": {
   "codemirror_mode": {
    "name": "ipython",
    "version": 3
   },
   "file_extension": ".py",
   "mimetype": "text/x-python",
   "name": "python",
   "nbconvert_exporter": "python",
   "pygments_lexer": "ipython3",
   "version": "3.7.7-final"
  },
  "orig_nbformat": 2,
  "kernelspec": {
   "name": "python3",
   "display_name": "Python 3"
  }
 },
 "nbformat": 4,
 "nbformat_minor": 2
}