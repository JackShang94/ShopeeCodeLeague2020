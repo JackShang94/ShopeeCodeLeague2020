{
 "metadata": {
  "language_info": {
   "codemirror_mode": {
    "name": "ipython",
    "version": 3
   },
   "file_extension": ".py",
   "mimetype": "text/x-python",
   "name": "python",
   "nbconvert_exporter": "python",
   "pygments_lexer": "ipython3",
   "version": 3
  },
  "orig_nbformat": 2
 },
 "nbformat": 4,
 "nbformat_minor": 2,
 "cells": [
  {
   "cell_type": "code",
   "execution_count": null,
   "metadata": {},
   "outputs": [],
   "source": [
    "int_Q = 12\n",
    "int_N = 5\n",
    "\n",
    "PUSH 1 2\n",
    "PUSH 2 3\n",
    "PUSH 1 4\n",
    "POP\n",
    "PUSH 1 3\n",
    "PUSH 4 5\n",
    "PUSH 1 4\n",
    "POP\n",
    "POP\n",
    "POP\n",
    "POP\n",
    "POP"
   ]
  },
  {
   "cell_type": "code",
   "execution_count": null,
   "metadata": {},
   "outputs": [],
   "source": [
    "out\n",
    "432332123345"
   ]
  }
 ]
}