{
 "metadata": {
  "language_info": {
   "codemirror_mode": {
    "name": "ipython",
    "version": 3
   },
   "file_extension": ".py",
   "mimetype": "text/x-python",
   "name": "python",
   "nbconvert_exporter": "python",
   "pygments_lexer": "ipython3",
   "version": 3
  },
  "orig_nbformat": 2,
  "kernelspec": {
   "name": "python_defaultSpec_1595658885444",
   "display_name": "Python 3.7.7 64-bit ('Py37': conda)"
  }
 },
 "nbformat": 4,
 "nbformat_minor": 2,
 "cells": [
  {
   "cell_type": "code",
   "execution_count": 41,
   "metadata": {},
   "outputs": [],
   "source": [
    "def getResult(list_num, list_Length, input_List):\n",
    "    highest_mountain = -1\n",
    "    highest_mountain_index = -1\n",
    "\n",
    "    for i in range(list_Length):\n",
    "        if input_List[i] == 1: ## find mountain root\n",
    "            mountain_root = i\n",
    "\n",
    "            ## find ahead\n",
    "            pre_highest_mountain = 1\n",
    "            pre_highest_mountain_index = 0\n",
    "            num = mountain_root\n",
    "            for n in range(num):\n",
    "                cur_index = num - n\n",
    "                pre_index = num - n - 1\n",
    "\n",
    "                pre_moutain = input_List[pre_index]\n",
    "                cur_moutain = input_List[cur_index]\n",
    "                if pre_moutain - cur_moutain == 1:\n",
    "                    if pre_moutain > pre_highest_mountain:\n",
    "                        pre_highest_mountain = pre_moutain\n",
    "                        pre_highest_mountain_index = pre_index\n",
    "                else:\n",
    "                    break\n",
    "            \n",
    "            ## find below\n",
    "            bel_highest_mountain = 1\n",
    "            bel_highest_mountain_index = 0\n",
    "            num = list_Length - mountain_root - 1\n",
    "\n",
    "            for m in range(num):\n",
    "                cur_index = i + m\n",
    "                bel_index = i + m + 1\n",
    "\n",
    "                bel_moutain = input_List[bel_index]\n",
    "                cur_moutain = input_List[cur_index]\n",
    "                if bel_moutain - cur_moutain == 1:\n",
    "                    if bel_moutain > pre_highest_mountain:\n",
    "                        bel_highest_mountain = bel_moutain\n",
    "                        bel_highest_mountain_index = bel_index\n",
    "                else:\n",
    "                    break\n",
    "\n",
    "            if pre_highest_mountain >= bel_highest_mountain_index:\n",
    "                if highest_mountain <= pre_highest_mountain:\n",
    "                    highest_mountain = pre_highest_mountain\n",
    "                    highest_mountain_index = pre_highest_mountain_index\n",
    "            else:\n",
    "                if highest_mountain < bel_highest_mountain:\n",
    "                    highest_mountain = bel_highest_mountain\n",
    "                    highest_mountain_index = bel_highest_mountain_index\n",
    "\n",
    "    print(\"Case #{\" + str(list_num) + \"}: \" + str(highest_mountain) +  \" \" + str(highest_mountain_index))           \n"
   ]
  },
  {
   "cell_type": "markdown",
   "metadata": {},
   "source": [
    "# 以下是测试"
   ]
  },
  {
   "cell_type": "code",
   "execution_count": 42,
   "metadata": {
    "tags": []
   },
   "outputs": [
    {
     "output_type": "stream",
     "name": "stdout",
     "text": "Case #{1}: 3 2\n"
    }
   ],
   "source": [
    "list_num = 1\n",
    "list_Length = 10\n",
    "input_List = [1,2,3,2,3,4,2,3,2,5]\n",
    "\n",
    "getResult(list_num, list_Length, input_List)"
   ]
  },
  {
   "cell_type": "code",
   "execution_count": 43,
   "metadata": {
    "tags": []
   },
   "outputs": [
    {
     "output_type": "stream",
     "name": "stdout",
     "text": "Case #{2}: 4 5\n"
    }
   ],
   "source": [
    "list_num = 2\n",
    "list_Length = 10\n",
    "input_List = [3,2,3,2,3,4,3,2,1,4]\n",
    "\n",
    "getResult(list_num, list_Length, input_List)\n"
   ]
  },
  {
   "cell_type": "code",
   "execution_count": 44,
   "metadata": {
    "tags": []
   },
   "outputs": [
    {
     "output_type": "stream",
     "name": "stdout",
     "text": "Case #{3}: 1 0\n"
    }
   ],
   "source": [
    "list_num = 3\n",
    "list_Length = 5\n",
    "input_List = [1,1,1,1,1]\n",
    "\n",
    "getResult(list_num, list_Length, input_List)"
   ]
  },
  {
   "cell_type": "code",
   "execution_count": 45,
   "metadata": {
    "tags": []
   },
   "outputs": [
    {
     "output_type": "stream",
     "name": "stdout",
     "text": "Case #{4}: 10 0\n"
    }
   ],
   "source": [
    "list_num = 4\n",
    "list_Length = 10\n",
    "input_List = [10,9,8,7,6,5,4,3,2,1]\n",
    "\n",
    "getResult(list_num, list_Length, input_List)"
   ]
  },
  {
   "cell_type": "code",
   "execution_count": 46,
   "metadata": {
    "tags": []
   },
   "outputs": [
    {
     "output_type": "stream",
     "name": "stdout",
     "text": "Case #{5}: -1 -1\n"
    }
   ],
   "source": [
    "list_num = 5\n",
    "list_Length = 1\n",
    "input_List = [5]\n",
    "\n",
    "getResult(list_num, list_Length, input_List)"
   ]
  },
  {
   "cell_type": "code",
   "execution_count": 47,
   "metadata": {
    "tags": []
   },
   "outputs": [
    {
     "output_type": "stream",
     "name": "stdout",
     "text": "Case #{6}: 1 0\n"
    }
   ],
   "source": [
    "list_num = 6\n",
    "list_Length = 1\n",
    "input_List = [1]\n",
    "\n",
    "getResult(list_num, list_Length, input_List)"
   ]
  },
  {
   "cell_type": "code",
   "execution_count": null,
   "metadata": {},
   "outputs": [],
   "source": []
  }
 ]
}