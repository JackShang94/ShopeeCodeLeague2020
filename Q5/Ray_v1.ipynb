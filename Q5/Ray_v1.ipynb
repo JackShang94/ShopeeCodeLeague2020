{
 "cells": [
  {
   "cell_type": "code",
   "execution_count": null,
   "metadata": {},
   "outputs": [],
   "source": [
    "import pandas as pd\n",
    "import numpy as np\n",
    "import datetime"
   ]
  },
  {
   "cell_type": "code",
   "execution_count": null,
   "metadata": {},
   "outputs": [],
   "source": [
    "# read big data\n",
    "ori_df = pd.read_csv('delivery_orders_march.csv')"
   ]
  },
  {
   "cell_type": "code",
   "execution_count": null,
   "metadata": {},
   "outputs": [],
   "source": [
    "# sample first 1000\n",
    "# df = ori_df.loc[0:1000, :]\n",
    "df = ori_df.copy()\n",
    "df.head()"
   ]
  },
  {
   "cell_type": "code",
   "execution_count": null,
   "metadata": {},
   "outputs": [],
   "source": [
    "SLA_Manila_BtoS = [['metro manila',3],['luzon',5],['visayas',7],['mindanao',7]]\n",
    "SLA_Luzon_BtoS = [['metro manila',5],['luzon',5],['visayas',7],['mindanao',7]]\n",
    "SLA_Visayas_BtoS = [['metro manila',7],['luzon',7],['visayas',7],['mindanao',7]]\n",
    "SLA_Mindanao_BtoS = [['metro manila',7],['luzon',7],['visayas',7],['mindanao',7]]"
   ]
  },
  {
   "cell_type": "code",
   "execution_count": null,
   "metadata": {},
   "outputs": [],
   "source": [
    "buyer_address_list = df['buyeraddress'].to_list()\n",
    "seller_address_list = df['selleraddress'].to_list()\n",
    "SLA_days_list = []"
   ]
  },
  {
   "cell_type": "code",
   "execution_count": null,
   "metadata": {},
   "outputs": [],
   "source": [
    "def get_SLA_days(target_SLA,seller_address):\n",
    "    for item in target_SLA:\n",
    "        if item[0] in seller_address:\n",
    "            # print(item[1])\n",
    "            return item[1]"
   ]
  },
  {
   "cell_type": "code",
   "execution_count": null,
   "metadata": {},
   "outputs": [],
   "source": [
    "i = 0\n",
    "while i < len(buyer_address_list):\n",
    "    buyer_address = buyer_address_list[i].lower()\n",
    "    seller_address = seller_address_list[i].lower()\n",
    "    # print(buyer_address)\n",
    "    # print(seller_address)\n",
    "    if 'metro manila' in buyer_address:\n",
    "        target_SLA = SLA_Manila_BtoS\n",
    "    elif 'luzon' in buyer_address:\n",
    "        target_SLA = SLA_Luzon_BtoS\n",
    "    elif 'visayas' in buyer_address:\n",
    "        target_SLA = SLA_Visayas_BtoS\n",
    "    else:\n",
    "        target_SLA = SLA_Mindanao_BtoS\n",
    "\n",
    "    day = get_SLA_days(target_SLA, seller_address)\n",
    "    SLA_days_list.append(day)\n",
    "\n",
    "    i += 1"
   ]
  },
  {
   "cell_type": "code",
   "execution_count": null,
   "metadata": {},
   "outputs": [],
   "source": [
    "del df['buyeraddress']\n",
    "del df['selleraddress']\n",
    "df['SLA'] = SLA_days_list \n",
    "df['SLA'] = df['SLA'].astype(int)\n",
    "df.head()"
   ]
  },
  {
   "cell_type": "code",
   "execution_count": null,
   "metadata": {},
   "outputs": [],
   "source": [
    "df['pick'] = pd.to_datetime(df['pick'], unit='s').dt.date\n",
    "df['1st_deliver_attempt'] = pd.to_datetime(df['1st_deliver_attempt'], unit='s').dt.date\n",
    "df['2nd_deliver_attempt'] = pd.to_datetime(df['2nd_deliver_attempt'], unit='s').dt.date"
   ]
  },
  {
   "cell_type": "code",
   "execution_count": null,
   "metadata": {},
   "outputs": [],
   "source": [
    "df.head()"
   ]
  },
  {
   "cell_type": "code",
   "execution_count": null,
   "metadata": {},
   "outputs": [],
   "source": [
    "public_list = ['08/03/2020', '25/03/2020', '30/03/2020', '31/03/2020']\n",
    "public_list = [pd.to_datetime(x,format=\"%d/%m/%Y\").date() for x in public_list]"
   ]
  },
  {
   "cell_type": "code",
   "execution_count": null,
   "metadata": {},
   "outputs": [],
   "source": [
    "def cal_working_days(row, holidays_list=public_list):\n",
    "    if pd.isnull(row[1]):\n",
    "        return -1\n",
    "    days = np.busday_count(row[0], row[1], weekmask = [1,1,1,1,1,1,0], holidays = holidays_list)\n",
    "    return days"
   ]
  },
  {
   "cell_type": "code",
   "execution_count": null,
   "metadata": {},
   "outputs": [],
   "source": [
    "df['days_1'] = df[['pick', '1st_deliver_attempt']].apply(cal_working_days, axis=1)\n",
    "df['days_2'] = df[['1st_deliver_attempt', '2nd_deliver_attempt']].apply(cal_working_days, axis=1)"
   ]
  },
  {
   "cell_type": "code",
   "execution_count": null,
   "metadata": {},
   "outputs": [],
   "source": [
    "df['is_late'] = 0"
   ]
  },
  {
   "cell_type": "code",
   "execution_count": null,
   "metadata": {},
   "outputs": [],
   "source": [
    "# late or not\n",
    "df['is_late'][df['days_2']>3] = 1\n",
    "df['is_late'][df['days_1']>df['SLA']] = 1\n",
    "# df['is_late'][df['days_1']<=df['SLA'] & df['days_2']>3] = 0"
   ]
  },
  {
   "cell_type": "code",
   "execution_count": null,
   "metadata": {},
   "outputs": [],
   "source": [
    "del df['pick']\n",
    "del df['1st_deliver_attempt']\n",
    "del df['2nd_deliver_attempt']\n",
    "del df['SLA']\n",
    "del df['days_1']\n",
    "del df['days_2']\n",
    "df['orderid'] = df['orderid'].apply(str)"
   ]
  },
  {
   "cell_type": "code",
   "execution_count": null,
   "metadata": {},
   "outputs": [],
   "source": [
    "df.to_csv('submission.csv',index=False)"
   ]
  },
  {
   "cell_type": "code",
   "execution_count": null,
   "metadata": {},
   "outputs": [],
   "source": []
  }
 ],
 "metadata": {
  "language_info": {
   "codemirror_mode": {
    "name": "ipython",
    "version": 3
   },
   "file_extension": ".py",
   "mimetype": "text/x-python",
   "name": "python",
   "nbconvert_exporter": "python",
   "pygments_lexer": "ipython3",
   "version": "3.7.6-final"
  },
  "orig_nbformat": 2,
  "kernelspec": {
   "name": "python3",
   "display_name": "Python 3"
  }
 },
 "nbformat": 4,
 "nbformat_minor": 2
}