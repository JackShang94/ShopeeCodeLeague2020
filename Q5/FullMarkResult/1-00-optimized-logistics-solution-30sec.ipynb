{
 "cells": [
  {
   "cell_type": "code",
   "execution_count": 1,
   "metadata": {
    "_cell_guid": "79c7e3d0-c299-4dcb-8224-4455121ee9b0",
    "_uuid": "d629ff2d2480ee46fbb7e2d37f6b5fab8052498a"
   },
   "outputs": [],
   "source": [
    "import pandas as pd\n",
    "import numpy as np"
   ]
  },
  {
   "cell_type": "code",
   "execution_count": 2,
   "metadata": {},
   "outputs": [],
   "source": [
    "filepath = '/kaggle/input/open-shopee-code-league-logistic/delivery_orders_march.csv'\n",
    "\n",
    "WORKDAYS = '1111110'\n",
    "HOLIDAYS = ['2020-03-08','2020-03-25', '2020-03-30', '2020-03-31']\n",
    "\n",
    "GMT8_OFFSET = 3600 * 8\n",
    "DURATION_1DAY = 3600 * 24\n",
    "\n",
    "def mat_to_dict(mat):\n",
    "    n = len(mat)\n",
    "    return {i*n+j: mat[i][j] for i in range(n) for j in range(n)}\n",
    "\n",
    "sla_matrix_1st_attempt = [\n",
    "    [3, 5, 7, 7],\n",
    "    [5, 5, 7, 7],\n",
    "    [7, 7, 7, 7],\n",
    "    [7, 7, 7, 7],\n",
    "]\n",
    "sla_matrix_2nd_attempt = [\n",
    "    [3, 3, 3, 3],\n",
    "    [3, 3, 3, 3],\n",
    "    [3, 3, 3, 3],\n",
    "    [3, 3, 3, 3],\n",
    "]\n",
    "locations = [\"Metro Manila\", \"Luzon\", \"Visayas\", \"Mindanao\"]\n",
    "locations = [loc.lower() for loc in locations]\n",
    "min_length = min(map(len, locations))\n",
    "trunc_location_to_index = {loc[-min_length:]: i for i, loc in enumerate(locations)}"
   ]
  },
  {
   "cell_type": "code",
   "execution_count": 3,
   "metadata": {},
   "outputs": [
    {
     "name": "stdout",
     "output_type": "stream",
     "text": [
      "CPU times: user 10.9 s, sys: 2.44 s, total: 13.4 s\n",
      "Wall time: 13.4 s\n"
     ]
    }
   ],
   "source": [
    "%%time\n",
    "dtype = {\n",
    "    'orderid': np.int64,\n",
    "    'pick': np.int64,\n",
    "    '1st_deliver_attempt': np.int64,\n",
    "    '2nd_deliver_attempt': np.float64,\n",
    "    'buyeraddress': np.object,\n",
    "    'selleraddress': np.object,\n",
    "}\n",
    "df = pd.read_csv(filepath, dtype=dtype)"
   ]
  },
  {
   "cell_type": "code",
   "execution_count": 4,
   "metadata": {},
   "outputs": [
    {
     "name": "stdout",
     "output_type": "stream",
     "text": [
      "CPU times: user 4.78 s, sys: 440 ms, total: 5.22 s\n",
      "Wall time: 5.22 s\n"
     ]
    }
   ],
   "source": [
    "%%time\n",
    "# convert address to index\n",
    "df['buyeraddress'] = df['buyeraddress'].apply(lambda s: s[-min_length:].lower()).map(trunc_location_to_index)\n",
    "df['selleraddress'] = df['selleraddress'].apply(lambda s: s[-min_length:].lower()).map(trunc_location_to_index)"
   ]
  },
  {
   "cell_type": "code",
   "execution_count": 5,
   "metadata": {},
   "outputs": [
    {
     "name": "stdout",
     "output_type": "stream",
     "text": [
      "CPU times: user 332 ms, sys: 290 ms, total: 622 ms\n",
      "Wall time: 588 ms\n"
     ]
    }
   ],
   "source": [
    "%%time\n",
    "# convert unix datetime(seconds)stamps to unix datetime(date)stamps\n",
    "dt_columns = ['pick', '1st_deliver_attempt', '2nd_deliver_attempt']\n",
    "df[dt_columns[-1]] = df['2nd_deliver_attempt'].fillna(0).astype(np.int64)\n",
    "df[dt_columns] = (df[dt_columns] + GMT8_OFFSET) // DURATION_1DAY"
   ]
  },
  {
   "cell_type": "code",
   "execution_count": 6,
   "metadata": {},
   "outputs": [
    {
     "name": "stdout",
     "output_type": "stream",
     "text": [
      "CPU times: user 214 ms, sys: 22 ms, total: 236 ms\n",
      "Wall time: 235 ms\n"
     ]
    }
   ],
   "source": [
    "%%time\n",
    "# compute number of working days between time intervals\n",
    "t1 = df['pick'].values.astype('datetime64[D]')\n",
    "t2 = df['1st_deliver_attempt'].values.astype('datetime64[D]')\n",
    "t3 = df['2nd_deliver_attempt'].values.astype('datetime64[D]')\n",
    "df['num_days1'] = np.busday_count(t1, t2, weekmask=WORKDAYS, holidays=HOLIDAYS)\n",
    "df['num_days2'] = np.busday_count(t2, t3, weekmask=WORKDAYS, holidays=HOLIDAYS)"
   ]
  },
  {
   "cell_type": "code",
   "execution_count": 7,
   "metadata": {},
   "outputs": [
    {
     "name": "stdout",
     "output_type": "stream",
     "text": [
      "CPU times: user 85.4 ms, sys: 30.6 ms, total: 116 ms\n",
      "Wall time: 90.4 ms\n"
     ]
    }
   ],
   "source": [
    "%%time\n",
    "# compute sla based on addresses\n",
    "to_from = df['buyeraddress']*4 + df['selleraddress']\n",
    "df['sla1'] = to_from.map(mat_to_dict(sla_matrix_1st_attempt))\n",
    "df['sla2'] = to_from.map(mat_to_dict(sla_matrix_2nd_attempt))"
   ]
  },
  {
   "cell_type": "code",
   "execution_count": 8,
   "metadata": {},
   "outputs": [
    {
     "name": "stdout",
     "output_type": "stream",
     "text": [
      "CPU times: user 19.9 ms, sys: 7.81 ms, total: 27.7 ms\n",
      "Wall time: 27.1 ms\n"
     ]
    }
   ],
   "source": [
    "%%time\n",
    "# compute if deliver is late\n",
    "df['is_late'] = (df['num_days1'] > df['sla1']) | (df['num_days2'] > df['sla2'])\n",
    "df['is_late'] = df['is_late'].astype(int)"
   ]
  },
  {
   "cell_type": "code",
   "execution_count": 9,
   "metadata": {},
   "outputs": [
    {
     "name": "stdout",
     "output_type": "stream",
     "text": [
      "CPU times: user 7.63 s, sys: 400 ms, total: 8.03 s\n",
      "Wall time: 8.18 s\n"
     ]
    }
   ],
   "source": [
    "%%time\n",
    "# write to file\n",
    "df[['orderid', 'is_late']].to_csv('submission.csv', index=False)"
   ]
  }
 ],
 "metadata": {
  "kernelspec": {
   "display_name": "Python 3",
   "language": "python",
   "name": "python3"
  },
  "language_info": {
   "codemirror_mode": {
    "name": "ipython",
    "version": 3
   },
   "file_extension": ".py",
   "mimetype": "text/x-python",
   "name": "python",
   "nbconvert_exporter": "python",
   "pygments_lexer": "ipython3",
   "version": "3.7.6"
  }
 },
 "nbformat": 4,
 "nbformat_minor": 4
}
