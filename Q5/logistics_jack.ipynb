{
 "cells": [
  {
   "cell_type": "code",
   "execution_count": 132,
   "metadata": {},
   "outputs": [],
   "source": [
    "import pandas as pd\n",
    "import datetime as datetime"
   ]
  },
  {
   "cell_type": "code",
   "execution_count": 133,
   "metadata": {},
   "outputs": [
    {
     "output_type": "execute_result",
     "data": {
      "text/plain": "      orderid        pick  1st_deliver_attempt  2nd_deliver_attempt  \\\n0  2215676524  1583138397         1.583385e+09                  NaN   \n1  2219624609  1583309968         1.583463e+09         1.583799e+09   \n2  2220979489  1583306434         1.583460e+09                  NaN   \n3  2221066352  1583419016         1.583556e+09                  NaN   \n4  2222478803  1583318305         1.583480e+09                  NaN   \n\n                                        buyeraddress  \\\n0  Baging ldl BUENAVISTA,PATAG.CAGAYAN Buagsong,c...   \n1  coloma's quzom CASANAS Site1 Masiyan 533A Stol...   \n2  21-O LumangDaan,Capitangan,Abucay,Bataan .Bign...   \n3  616Espiritu MARTINVILLE,MANUYO #5paraiso kengi...   \n4  L042 Summerbreezee1 L2(Balanay analyn Lot760 C...   \n\n                                       selleraddress  \n0  Pantranco vill. 417 Warehouse# katipunan 532 (...  \n1  BLDG 210A Moras C42B 2B16,168 church) Complex ...  \n2  #66 150-C, DRIVE, Milagros Joe socorro Metro M...  \n3  999maII 201,26 Villaruel Barretto gen.t number...  \n4  G66MANILA Hiyas Fitness MAYSILO magdiwang Lt.4...  ",
      "text/html": "<div>\n<style scoped>\n    .dataframe tbody tr th:only-of-type {\n        vertical-align: middle;\n    }\n\n    .dataframe tbody tr th {\n        vertical-align: top;\n    }\n\n    .dataframe thead th {\n        text-align: right;\n    }\n</style>\n<table border=\"1\" class=\"dataframe\">\n  <thead>\n    <tr style=\"text-align: right;\">\n      <th></th>\n      <th>orderid</th>\n      <th>pick</th>\n      <th>1st_deliver_attempt</th>\n      <th>2nd_deliver_attempt</th>\n      <th>buyeraddress</th>\n      <th>selleraddress</th>\n    </tr>\n  </thead>\n  <tbody>\n    <tr>\n      <th>0</th>\n      <td>2215676524</td>\n      <td>1583138397</td>\n      <td>1.583385e+09</td>\n      <td>NaN</td>\n      <td>Baging ldl BUENAVISTA,PATAG.CAGAYAN Buagsong,c...</td>\n      <td>Pantranco vill. 417 Warehouse# katipunan 532 (...</td>\n    </tr>\n    <tr>\n      <th>1</th>\n      <td>2219624609</td>\n      <td>1583309968</td>\n      <td>1.583463e+09</td>\n      <td>1.583799e+09</td>\n      <td>coloma's quzom CASANAS Site1 Masiyan 533A Stol...</td>\n      <td>BLDG 210A Moras C42B 2B16,168 church) Complex ...</td>\n    </tr>\n    <tr>\n      <th>2</th>\n      <td>2220979489</td>\n      <td>1583306434</td>\n      <td>1.583460e+09</td>\n      <td>NaN</td>\n      <td>21-O LumangDaan,Capitangan,Abucay,Bataan .Bign...</td>\n      <td>#66 150-C, DRIVE, Milagros Joe socorro Metro M...</td>\n    </tr>\n    <tr>\n      <th>3</th>\n      <td>2221066352</td>\n      <td>1583419016</td>\n      <td>1.583556e+09</td>\n      <td>NaN</td>\n      <td>616Espiritu MARTINVILLE,MANUYO #5paraiso kengi...</td>\n      <td>999maII 201,26 Villaruel Barretto gen.t number...</td>\n    </tr>\n    <tr>\n      <th>4</th>\n      <td>2222478803</td>\n      <td>1583318305</td>\n      <td>1.583480e+09</td>\n      <td>NaN</td>\n      <td>L042 Summerbreezee1 L2(Balanay analyn Lot760 C...</td>\n      <td>G66MANILA Hiyas Fitness MAYSILO magdiwang Lt.4...</td>\n    </tr>\n  </tbody>\n</table>\n</div>"
     },
     "metadata": {},
     "execution_count": 133
    }
   ],
   "source": [
    "# Load CSV\n",
    "readPath = 'delivery_orders_march.csv'\n",
    "Order_df = pd.read_csv(readPath)\n",
    "df = Order_df.copy()\n",
    "df.head()"
   ]
  },
  {
   "cell_type": "code",
   "execution_count": 134,
   "metadata": {},
   "outputs": [
    {
     "output_type": "execute_result",
     "data": {
      "text/plain": "      orderid        pick  1st_deliver_attempt  2nd_deliver_attempt  \\\n0  2215676524  1583138397         1.583385e+09                  NaN   \n1  2219624609  1583309968         1.583463e+09         1.583799e+09   \n2  2220979489  1583306434         1.583460e+09                  NaN   \n3  2221066352  1583419016         1.583556e+09                  NaN   \n4  2222478803  1583318305         1.583480e+09                  NaN   \n\n                                        buyeraddress  \\\n0  Baging ldl BUENAVISTA,PATAG.CAGAYAN Buagsong,c...   \n1  coloma's quzom CASANAS Site1 Masiyan 533A Stol...   \n2  21-O LumangDaan,Capitangan,Abucay,Bataan .Bign...   \n3  616Espiritu MARTINVILLE,MANUYO #5paraiso kengi...   \n4  L042 Summerbreezee1 L2(Balanay analyn Lot760 C...   \n\n                                       selleraddress  \n0  Pantranco vill. 417 Warehouse# katipunan 532 (...  \n1  BLDG 210A Moras C42B 2B16,168 church) Complex ...  \n2  #66 150-C, DRIVE, Milagros Joe socorro Metro M...  \n3  999maII 201,26 Villaruel Barretto gen.t number...  \n4  G66MANILA Hiyas Fitness MAYSILO magdiwang Lt.4...  ",
      "text/html": "<div>\n<style scoped>\n    .dataframe tbody tr th:only-of-type {\n        vertical-align: middle;\n    }\n\n    .dataframe tbody tr th {\n        vertical-align: top;\n    }\n\n    .dataframe thead th {\n        text-align: right;\n    }\n</style>\n<table border=\"1\" class=\"dataframe\">\n  <thead>\n    <tr style=\"text-align: right;\">\n      <th></th>\n      <th>orderid</th>\n      <th>pick</th>\n      <th>1st_deliver_attempt</th>\n      <th>2nd_deliver_attempt</th>\n      <th>buyeraddress</th>\n      <th>selleraddress</th>\n    </tr>\n  </thead>\n  <tbody>\n    <tr>\n      <th>0</th>\n      <td>2215676524</td>\n      <td>1583138397</td>\n      <td>1.583385e+09</td>\n      <td>NaN</td>\n      <td>Baging ldl BUENAVISTA,PATAG.CAGAYAN Buagsong,c...</td>\n      <td>Pantranco vill. 417 Warehouse# katipunan 532 (...</td>\n    </tr>\n    <tr>\n      <th>1</th>\n      <td>2219624609</td>\n      <td>1583309968</td>\n      <td>1.583463e+09</td>\n      <td>1.583799e+09</td>\n      <td>coloma's quzom CASANAS Site1 Masiyan 533A Stol...</td>\n      <td>BLDG 210A Moras C42B 2B16,168 church) Complex ...</td>\n    </tr>\n    <tr>\n      <th>2</th>\n      <td>2220979489</td>\n      <td>1583306434</td>\n      <td>1.583460e+09</td>\n      <td>NaN</td>\n      <td>21-O LumangDaan,Capitangan,Abucay,Bataan .Bign...</td>\n      <td>#66 150-C, DRIVE, Milagros Joe socorro Metro M...</td>\n    </tr>\n    <tr>\n      <th>3</th>\n      <td>2221066352</td>\n      <td>1583419016</td>\n      <td>1.583556e+09</td>\n      <td>NaN</td>\n      <td>616Espiritu MARTINVILLE,MANUYO #5paraiso kengi...</td>\n      <td>999maII 201,26 Villaruel Barretto gen.t number...</td>\n    </tr>\n    <tr>\n      <th>4</th>\n      <td>2222478803</td>\n      <td>1583318305</td>\n      <td>1.583480e+09</td>\n      <td>NaN</td>\n      <td>L042 Summerbreezee1 L2(Balanay analyn Lot760 C...</td>\n      <td>G66MANILA Hiyas Fitness MAYSILO magdiwang Lt.4...</td>\n    </tr>\n  </tbody>\n</table>\n</div>"
     },
     "metadata": {},
     "execution_count": 134
    }
   ],
   "source": [
    "# load top 1000 rows\n",
    "used_df = df.loc[0:1000,:]\n",
    "used_df.head()"
   ]
  },
  {
   "cell_type": "code",
   "execution_count": 135,
   "metadata": {},
   "outputs": [],
   "source": [
    "SLA_Manila_BtoS = [['metro manila',3],['luzon',5],['visayas',7],['mindanao',7]]\n",
    "SLA_Luzon_BtoS = [['metro manila',5],['luzon',5],['visayas',7],['mindanao',7]]\n",
    "SLA_Visayas_BtoS = [['metro manila',7],['luzon',7],['visayas',7],['mindanao',7]]\n",
    "SLA_Mindanao_BtoS = [['metro manila',7],['luzon',7],['visayas',7],['mindanao',7]]"
   ]
  },
  {
   "cell_type": "code",
   "execution_count": 136,
   "metadata": {
    "tags": []
   },
   "outputs": [],
   "source": [
    "buyer_address_list = used_df['buyeraddress'].to_list()\n",
    "seller_address_list = used_df['selleraddress'].to_list()\n",
    "SLA_days_list = []"
   ]
  },
  {
   "cell_type": "code",
   "execution_count": 137,
   "metadata": {},
   "outputs": [],
   "source": [
    "def get_SLA_days(target_SLA,seller_address):\n",
    "    for item in target_SLA:\n",
    "        if item[0] in seller_address:\n",
    "            # print(item[1])\n",
    "            return item[1]"
   ]
  },
  {
   "cell_type": "code",
   "execution_count": 138,
   "metadata": {
    "tags": []
   },
   "outputs": [],
   "source": [
    "i = 0\n",
    "while i < len(buyer_address_list):\n",
    "    buyer_address = buyer_address_list[i].lower()\n",
    "    seller_address = seller_address_list[i].lower()\n",
    "    # print(buyer_address)\n",
    "    # print(seller_address)\n",
    "    if 'metro manila' in buyer_address:\n",
    "        target_SLA = SLA_Manila_BtoS\n",
    "    elif 'luzon' in buyer_address:\n",
    "        target_SLA = SLA_Luzon_BtoS\n",
    "    elif 'visayas' in buyer_address:\n",
    "        target_SLA = SLA_Visayas_BtoS\n",
    "    else:\n",
    "        target_SLA = SLA_Mindanao_BtoS\n",
    "\n",
    "    day = get_SLA_days(target_SLA, seller_address)\n",
    "    SLA_days_list.append(day)\n",
    "\n",
    "    i += 1\n"
   ]
  },
  {
   "cell_type": "code",
   "execution_count": 139,
   "metadata": {
    "tags": []
   },
   "outputs": [
    {
     "output_type": "stream",
     "name": "stdout",
     "text": "[3, 3, 3, 3, 5, 3, 3, 3, 5, 7, 3, 5, 3, 5, 7, 3, 3, 3, 3, 7, 3, 3, 7, 7, 3, 3, 3, 7, 3, 3, 7, 3, 5, 3, 5, 3, 5, 7, 3, 5, 7, 3, 3, 3, 5, 3, 3, 7, 3, 5, 3, 3, 3, 3, 3, 3, 5, 3, 3, 5, 5, 3, 7, 7, 5, 3, 3, 7, 3, 5, 3, 5, 7, 7, 3, 3, 3, 5, 3, 5, 3, 7, 5, 3, 7, 3, 5, 3, 3, 5, 7, 3, 7, 3, 5, 3, 5, 3, 7, 7, 3, 5, 7, 3, 7, 7, 7, 3, 5, 7, 5, 7, 3, 5, 3, 7, 7, 7, 3, 7, 3, 3, 7, 3, 7, 7, 3, 3, 5, 3, 7, 5, 7, 7, 7, 3, 5, 3, 5, 7, 5, 5, 5, 7, 3, 3, 3, 7, 3, 3, 3, 3, 7, 7, 7, 5, 3, 7, 3, 3, 3, 5, 5, 3, 5, 7, 7, 3, 7, 3, 3, 5, 3, 3, 7, 3, 7, 7, 3, 7, 3, 5, 5, 3, 7, 7, 7, 5, 3, 3, 3, 5, 5, 7, 5, 3, 3, 7, 3, 5, 3, 5, 7, 3, 7, 5, 5, 7, 7, 7, 3, 7, 7, 3, 3, 3, 5, 5, 5, 3, 7, 3, 3, 3, 5, 5, 7, 5, 5, 3, 3, 5, 3, 3, 7, 5, 7, 3, 3, 7, 5, 7, 5, 3, 7, 3, 5, 5, 3, 3, 3, 5, 3, 7, 3, 3, 7, 5, 5, 3, 5, 3, 3, 3, 7, 7, 7, 7, 7, 7, 5, 7, 7, 3, 3, 7, 5, 7, 5, 5, 7, 5, 5, 5, 5, 3, 3, 3, 3, 7, 3, 3, 5, 7, 7, 3, 7, 3, 7, 5, 5, 5, 5, 3, 3, 3, 7, 3, 5, 3, 3, 7, 5, 5, 3, 5, 3, 5, 3, 7, 5, 7, 3, 3, 7, 3, 3, 7, 3, 7, 5, 5, 3, 3, 7, 7, 5, 3, 7, 7, 3, 3, 3, 3, 3, 3, 5, 3, 7, 5, 7, 5, 3, 3, 7, 3, 7, 3, 3, 3, 3, 7, 3, 3, 3, 3, 3, 3, 5, 3, 5, 5, 7, 5, 7, 3, 5, 5, 3, 3, 3, 3, 7, 7, 3, 3, 7, 3, 3, 7, 5, 3, 7, 5, 3, 7, 3, 3, 3, 7, 5, 3, 3, 7, 3, 7, 3, 7, 5, 3, 5, 3, 5, 7, 3, 3, 7, 7, 7, 3, 7, 3, 3, 7, 5, 5, 7, 3, 3, 3, 7, 7, 5, 3, 7, 3, 7, 3, 5, 5, 7, 5, 3, 7, 3, 3, 5, 7, 5, 5, 3, 7, 7, 5, 5, 7, 7, 7, 7, 7, 7, 5, 3, 3, 7, 5, 5, 5, 3, 7, 3, 7, 7, 3, 3, 3, 3, 7, 5, 3, 7, 3, 7, 3, 3, 7, 3, 3, 7, 3, 7, 7, 3, 3, 3, 7, 7, 3, 3, 3, 3, 7, 3, 3, 7, 5, 3, 5, 3, 7, 3, 3, 7, 3, 7, 3, 3, 7, 7, 7, 3, 3, 3, 3, 7, 3, 3, 5, 3, 3, 3, 7, 3, 7, 5, 7, 5, 3, 7, 3, 3, 3, 3, 5, 5, 3, 5, 7, 5, 7, 7, 7, 7, 5, 5, 5, 3, 3, 7, 3, 3, 3, 3, 7, 7, 7, 7, 7, 3, 7, 3, 5, 3, 7, 3, 5, 3, 3, 3, 3, 7, 3, 3, 3, 7, 7, 7, 3, 3, 3, 3, 5, 3, 7, 7, 3, 3, 5, 3, 3, 3, 7, 3, 5, 3, 3, 3, 5, 3, 7, 5, 3, 3, 3, 7, 3, 3, 3, 7, 3, 5, 5, 5, 5, 5, 3, 7, 3, 7, 7, 5, 7, 3, 3, 3, 3, 5, 5, 3, 5, 5, 3, 3, 5, 7, 5, 3, 5, 3, 3, 3, 3, 7, 3, 3, 7, 3, 5, 5, 3, 3, 3, 5, 5, 7, 5, 5, 5, 3, 3, 3, 5, 3, 3, 7, 5, 3, 3, 5, 3, 7, 5, 3, 3, 3, 5, 5, 7, 3, 7, 7, 3, 3, 7, 3, 7, 3, 7, 5, 3, 7, 3, 7, 7, 3, 7, 3, 5, 5, 7, 3, 3, 5, 7, 3, 3, 7, 5, 3, 3, 7, 3, 3, 5, 3, 3, 7, 3, 7, 5, 3, 5, 5, 3, 5, 3, 3, 3, 5, 3, 7, 7, 7, 3, 3, 3, 7, 3, 3, 3, 7, 3, 3, 7, 7, 3, 7, 3, 3, 3, 3, 3, 3, 5, 5, 7, 3, 5, 3, 5, 5, 7, 3, 3, 3, 7, 7, 3, 3, 7, 3, 3, 3, 3, 3, 3, 3, 3, 5, 3, 3, 7, 3, 3, 3, 7, 3, 3, 7, 3, 3, 5, 7, 7, 3, 3, 3, 5, 3, 5, 3, 3, 5, 3, 3, 3, 7, 3, 3, 5, 5, 3, 3, 5, 7, 3, 3, 3, 3, 5, 7, 3, 3, 3, 3, 3, 7, 5, 7, 3, 5, 3, 3, 5, 5, 3, 5, 7, 7, 3, 7, 3, 3, 7, 5, 3, 3, 7, 3, 3, 3, 3, 3, 5, 5, 5, 5, 7, 7, 3, 3, 5, 5, 5, 7, 3, 7, 7, 7, 7, 5, 7, 3, 7, 7, 3, 7, 7, 3, 7, 5, 5, 5, 7, 5, 5, 7, 3, 3, 7, 7, 3, 3, 3, 5, 7, 7, 7, 7, 5, 5, 5, 7, 3, 7, 7, 7, 7, 5, 5, 3, 3, 7, 5, 7, 3, 7, 3, 7, 3, 7, 5, 3, 7, 3, 5, 3, 5, 7, 7, 5, 3, 5, 5, 5, 3, 5, 5, 7, 3, 7, 3, 3, 7, 3, 5, 5, 3, 7, 5, 5, 3, 7, 3, 7, 7, 3, 3, 3, 3, 5, 5, 3, 5, 5, 7, 7, 7, 5, 7, 3, 7, 7, 3, 3, 3, 3, 7, 3, 7, 3, 3, 3, 3, 5, 7, 5, 3, 3, 3, 5]\n"
    }
   ],
   "source": [
    "del used_df['buyeraddress']\n",
    "del used_df['selleraddress']\n",
    "used_df['SLA'] = SLA_days_list \n",
    "used_df.head(1000)\n",
    "print(SLA_days_list)"
   ]
  },
  {
   "cell_type": "code",
   "execution_count": 142,
   "metadata": {
    "tags": []
   },
   "outputs": [
    {
     "output_type": "stream",
     "name": "stdout",
     "text": "1001\n"
    }
   ],
   "source": [
    "print(len(SLA_days_list))"
   ]
  },
  {
   "cell_type": "code",
   "execution_count": null,
   "metadata": {},
   "outputs": [],
   "source": []
  }
 ],
 "metadata": {
  "language_info": {
   "codemirror_mode": {
    "name": "ipython",
    "version": 3
   },
   "file_extension": ".py",
   "mimetype": "text/x-python",
   "name": "python",
   "nbconvert_exporter": "python",
   "pygments_lexer": "ipython3",
   "version": "3.7.7-final"
  },
  "orig_nbformat": 2,
  "kernelspec": {
   "name": "python3",
   "display_name": "Python 3"
  }
 },
 "nbformat": 4,
 "nbformat_minor": 2
}